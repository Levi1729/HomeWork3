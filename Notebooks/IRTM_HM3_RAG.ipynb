{
  "nbformat": 4,
  "nbformat_minor": 0,
  "metadata": {
    "colab": {
      "provenance": [],
      "gpuType": "T4"
    },
    "kernelspec": {
      "name": "python3",
      "display_name": "Python 3"
    },
    "language_info": {
      "name": "python"
    },
    "accelerator": "GPU",
    "widgets": {
      "application/vnd.jupyter.widget-state+json": {
        "ae008337c13e4409ac61ba7d8da5129f": {
          "model_module": "@jupyter-widgets/controls",
          "model_name": "HBoxModel",
          "model_module_version": "1.5.0",
          "state": {
            "_dom_classes": [],
            "_model_module": "@jupyter-widgets/controls",
            "_model_module_version": "1.5.0",
            "_model_name": "HBoxModel",
            "_view_count": null,
            "_view_module": "@jupyter-widgets/controls",
            "_view_module_version": "1.5.0",
            "_view_name": "HBoxView",
            "box_style": "",
            "children": [
              "IPY_MODEL_5e8c2e67ecf94ba0a446915fb2f7cc54",
              "IPY_MODEL_879332cebad54ec7a1ea47ddf1db7dbd",
              "IPY_MODEL_db54a60f7d1e435792d78dc625ff3f22"
            ],
            "layout": "IPY_MODEL_f7d1c1b62ea34dbe9b2ad20e362d1fbc"
          }
        },
        "5e8c2e67ecf94ba0a446915fb2f7cc54": {
          "model_module": "@jupyter-widgets/controls",
          "model_name": "HTMLModel",
          "model_module_version": "1.5.0",
          "state": {
            "_dom_classes": [],
            "_model_module": "@jupyter-widgets/controls",
            "_model_module_version": "1.5.0",
            "_model_name": "HTMLModel",
            "_view_count": null,
            "_view_module": "@jupyter-widgets/controls",
            "_view_module_version": "1.5.0",
            "_view_name": "HTMLView",
            "description": "",
            "description_tooltip": null,
            "layout": "IPY_MODEL_8a8d86eefd914902b654f25fe0dad20e",
            "placeholder": "​",
            "style": "IPY_MODEL_cec7e1b259ef47fa8868b46a6fdeb821",
            "value": "100%"
          }
        },
        "879332cebad54ec7a1ea47ddf1db7dbd": {
          "model_module": "@jupyter-widgets/controls",
          "model_name": "FloatProgressModel",
          "model_module_version": "1.5.0",
          "state": {
            "_dom_classes": [],
            "_model_module": "@jupyter-widgets/controls",
            "_model_module_version": "1.5.0",
            "_model_name": "FloatProgressModel",
            "_view_count": null,
            "_view_module": "@jupyter-widgets/controls",
            "_view_module_version": "1.5.0",
            "_view_name": "ProgressView",
            "bar_style": "success",
            "description": "",
            "description_tooltip": null,
            "layout": "IPY_MODEL_48d20564e355404d9016102195c63f9f",
            "max": 20,
            "min": 0,
            "orientation": "horizontal",
            "style": "IPY_MODEL_d68b4f81e8bf484486108ead22b4a9d8",
            "value": 20
          }
        },
        "db54a60f7d1e435792d78dc625ff3f22": {
          "model_module": "@jupyter-widgets/controls",
          "model_name": "HTMLModel",
          "model_module_version": "1.5.0",
          "state": {
            "_dom_classes": [],
            "_model_module": "@jupyter-widgets/controls",
            "_model_module_version": "1.5.0",
            "_model_name": "HTMLModel",
            "_view_count": null,
            "_view_module": "@jupyter-widgets/controls",
            "_view_module_version": "1.5.0",
            "_view_name": "HTMLView",
            "description": "",
            "description_tooltip": null,
            "layout": "IPY_MODEL_d2ffd88af1a447d8b2524916f934641c",
            "placeholder": "​",
            "style": "IPY_MODEL_68c9458e98124f459ec3728f52ea1c67",
            "value": " 20/20 [00:05&lt;00:00,  3.02it/s]"
          }
        },
        "f7d1c1b62ea34dbe9b2ad20e362d1fbc": {
          "model_module": "@jupyter-widgets/base",
          "model_name": "LayoutModel",
          "model_module_version": "1.2.0",
          "state": {
            "_model_module": "@jupyter-widgets/base",
            "_model_module_version": "1.2.0",
            "_model_name": "LayoutModel",
            "_view_count": null,
            "_view_module": "@jupyter-widgets/base",
            "_view_module_version": "1.2.0",
            "_view_name": "LayoutView",
            "align_content": null,
            "align_items": null,
            "align_self": null,
            "border": null,
            "bottom": null,
            "display": null,
            "flex": null,
            "flex_flow": null,
            "grid_area": null,
            "grid_auto_columns": null,
            "grid_auto_flow": null,
            "grid_auto_rows": null,
            "grid_column": null,
            "grid_gap": null,
            "grid_row": null,
            "grid_template_areas": null,
            "grid_template_columns": null,
            "grid_template_rows": null,
            "height": null,
            "justify_content": null,
            "justify_items": null,
            "left": null,
            "margin": null,
            "max_height": null,
            "max_width": null,
            "min_height": null,
            "min_width": null,
            "object_fit": null,
            "object_position": null,
            "order": null,
            "overflow": null,
            "overflow_x": null,
            "overflow_y": null,
            "padding": null,
            "right": null,
            "top": null,
            "visibility": null,
            "width": null
          }
        },
        "8a8d86eefd914902b654f25fe0dad20e": {
          "model_module": "@jupyter-widgets/base",
          "model_name": "LayoutModel",
          "model_module_version": "1.2.0",
          "state": {
            "_model_module": "@jupyter-widgets/base",
            "_model_module_version": "1.2.0",
            "_model_name": "LayoutModel",
            "_view_count": null,
            "_view_module": "@jupyter-widgets/base",
            "_view_module_version": "1.2.0",
            "_view_name": "LayoutView",
            "align_content": null,
            "align_items": null,
            "align_self": null,
            "border": null,
            "bottom": null,
            "display": null,
            "flex": null,
            "flex_flow": null,
            "grid_area": null,
            "grid_auto_columns": null,
            "grid_auto_flow": null,
            "grid_auto_rows": null,
            "grid_column": null,
            "grid_gap": null,
            "grid_row": null,
            "grid_template_areas": null,
            "grid_template_columns": null,
            "grid_template_rows": null,
            "height": null,
            "justify_content": null,
            "justify_items": null,
            "left": null,
            "margin": null,
            "max_height": null,
            "max_width": null,
            "min_height": null,
            "min_width": null,
            "object_fit": null,
            "object_position": null,
            "order": null,
            "overflow": null,
            "overflow_x": null,
            "overflow_y": null,
            "padding": null,
            "right": null,
            "top": null,
            "visibility": null,
            "width": null
          }
        },
        "cec7e1b259ef47fa8868b46a6fdeb821": {
          "model_module": "@jupyter-widgets/controls",
          "model_name": "DescriptionStyleModel",
          "model_module_version": "1.5.0",
          "state": {
            "_model_module": "@jupyter-widgets/controls",
            "_model_module_version": "1.5.0",
            "_model_name": "DescriptionStyleModel",
            "_view_count": null,
            "_view_module": "@jupyter-widgets/base",
            "_view_module_version": "1.2.0",
            "_view_name": "StyleView",
            "description_width": ""
          }
        },
        "48d20564e355404d9016102195c63f9f": {
          "model_module": "@jupyter-widgets/base",
          "model_name": "LayoutModel",
          "model_module_version": "1.2.0",
          "state": {
            "_model_module": "@jupyter-widgets/base",
            "_model_module_version": "1.2.0",
            "_model_name": "LayoutModel",
            "_view_count": null,
            "_view_module": "@jupyter-widgets/base",
            "_view_module_version": "1.2.0",
            "_view_name": "LayoutView",
            "align_content": null,
            "align_items": null,
            "align_self": null,
            "border": null,
            "bottom": null,
            "display": null,
            "flex": null,
            "flex_flow": null,
            "grid_area": null,
            "grid_auto_columns": null,
            "grid_auto_flow": null,
            "grid_auto_rows": null,
            "grid_column": null,
            "grid_gap": null,
            "grid_row": null,
            "grid_template_areas": null,
            "grid_template_columns": null,
            "grid_template_rows": null,
            "height": null,
            "justify_content": null,
            "justify_items": null,
            "left": null,
            "margin": null,
            "max_height": null,
            "max_width": null,
            "min_height": null,
            "min_width": null,
            "object_fit": null,
            "object_position": null,
            "order": null,
            "overflow": null,
            "overflow_x": null,
            "overflow_y": null,
            "padding": null,
            "right": null,
            "top": null,
            "visibility": null,
            "width": null
          }
        },
        "d68b4f81e8bf484486108ead22b4a9d8": {
          "model_module": "@jupyter-widgets/controls",
          "model_name": "ProgressStyleModel",
          "model_module_version": "1.5.0",
          "state": {
            "_model_module": "@jupyter-widgets/controls",
            "_model_module_version": "1.5.0",
            "_model_name": "ProgressStyleModel",
            "_view_count": null,
            "_view_module": "@jupyter-widgets/base",
            "_view_module_version": "1.2.0",
            "_view_name": "StyleView",
            "bar_color": null,
            "description_width": ""
          }
        },
        "d2ffd88af1a447d8b2524916f934641c": {
          "model_module": "@jupyter-widgets/base",
          "model_name": "LayoutModel",
          "model_module_version": "1.2.0",
          "state": {
            "_model_module": "@jupyter-widgets/base",
            "_model_module_version": "1.2.0",
            "_model_name": "LayoutModel",
            "_view_count": null,
            "_view_module": "@jupyter-widgets/base",
            "_view_module_version": "1.2.0",
            "_view_name": "LayoutView",
            "align_content": null,
            "align_items": null,
            "align_self": null,
            "border": null,
            "bottom": null,
            "display": null,
            "flex": null,
            "flex_flow": null,
            "grid_area": null,
            "grid_auto_columns": null,
            "grid_auto_flow": null,
            "grid_auto_rows": null,
            "grid_column": null,
            "grid_gap": null,
            "grid_row": null,
            "grid_template_areas": null,
            "grid_template_columns": null,
            "grid_template_rows": null,
            "height": null,
            "justify_content": null,
            "justify_items": null,
            "left": null,
            "margin": null,
            "max_height": null,
            "max_width": null,
            "min_height": null,
            "min_width": null,
            "object_fit": null,
            "object_position": null,
            "order": null,
            "overflow": null,
            "overflow_x": null,
            "overflow_y": null,
            "padding": null,
            "right": null,
            "top": null,
            "visibility": null,
            "width": null
          }
        },
        "68c9458e98124f459ec3728f52ea1c67": {
          "model_module": "@jupyter-widgets/controls",
          "model_name": "DescriptionStyleModel",
          "model_module_version": "1.5.0",
          "state": {
            "_model_module": "@jupyter-widgets/controls",
            "_model_module_version": "1.5.0",
            "_model_name": "DescriptionStyleModel",
            "_view_count": null,
            "_view_module": "@jupyter-widgets/base",
            "_view_module_version": "1.2.0",
            "_view_name": "StyleView",
            "description_width": ""
          }
        }
      }
    }
  },
  "cells": [
    {
      "cell_type": "markdown",
      "source": [
        "# Getting Started with RAG using Fireworks Fast Inference LLMs\n",
        "\n",
        "While large language models (LLMs) show powerful capabilities that power advanced use cases, they suffer from issues such as factual inconsistency and hallucination. Retrieval-augmented generation (RAG) is a powerful approach to enrich LLM capabilities and improve their reliability. RAG involves combining LLMs with external knowledge by enriching the prompt context with relevant information that helps accomplish a task.\n",
        "\n",
        "In a  nutshell, Retrieval Augmented Generation (RAG) is a mechanism where the system fetches relevant documents for context from the bulk data sources like \"Wikipedia\" based on input query and send the input query along with the relevant document to the AI (Artificial Intelligence) or LLMs(Large Language Models) and fetch the results. These results will have better performance when compared with the traditional ones as the relevant document will guide the LLM for getting better results by giving the context and other necessary details for getting the query results.\n",
        "\n",
        "To showcase the power of RAG, this use case will cover building a RAG system that suggests five relevant search results from an query with a plot or movie title or both."
      ],
      "metadata": {
        "id": "mFZKqA41Vp0P"
      }
    },
    {
      "cell_type": "code",
      "source": [
        "%%capture\n",
        "!pip install chromadb tqdm fireworks-ai python-dotenv pandas\n",
        "!pip install sentence-transformers"
      ],
      "metadata": {
        "id": "pP7-dn29ZA1N"
      },
      "execution_count": null,
      "outputs": []
    },
    {
      "cell_type": "markdown",
      "source": [
        "We have installed all the requried libraries.Let us go with fetching the dataset. We tried to fetch the dataset from Kaggle but for some reason it failed. So we are just fetching the dataset by uploading the dataset manually using Google Colab file upload feature."
      ],
      "metadata": {
        "id": "fioZAI00YDw9"
      }
    },
    {
      "cell_type": "code",
      "source": [
        "import pandas as pd #importing the pandas module for loading the dataset into pandas dataframe\n",
        "\n",
        "# Loading the CSV file into a DataFrame\n",
        "df = pd.read_csv('/content/wiki_movie_plots_deduped.csv', nrows=1000)\n",
        "\n",
        "# Display the first thousand rows of the DataFrame\n",
        "print(df.head())"
      ],
      "metadata": {
        "colab": {
          "base_uri": "https://localhost:8080/"
        },
        "id": "lYsnmglDaTu5",
        "outputId": "29a1dfa2-3d62-42e3-b73e-7462440883fb"
      },
      "execution_count": null,
      "outputs": [
        {
          "output_type": "stream",
          "name": "stdout",
          "text": [
            "   Release Year                             Title Origin/Ethnicity  \\\n",
            "0          1901            Kansas Saloon Smashers         American   \n",
            "1          1901     Love by the Light of the Moon         American   \n",
            "2          1901           The Martyred Presidents         American   \n",
            "3          1901  Terrible Teddy, the Grizzly King         American   \n",
            "4          1902            Jack and the Beanstalk         American   \n",
            "\n",
            "                             Director Cast    Genre  \\\n",
            "0                             Unknown  NaN  unknown   \n",
            "1                             Unknown  NaN  unknown   \n",
            "2                             Unknown  NaN  unknown   \n",
            "3                             Unknown  NaN  unknown   \n",
            "4  George S. Fleming, Edwin S. Porter  NaN  unknown   \n",
            "\n",
            "                                           Wiki Page  \\\n",
            "0  https://en.wikipedia.org/wiki/Kansas_Saloon_Sm...   \n",
            "1  https://en.wikipedia.org/wiki/Love_by_the_Ligh...   \n",
            "2  https://en.wikipedia.org/wiki/The_Martyred_Pre...   \n",
            "3  https://en.wikipedia.org/wiki/Terrible_Teddy,_...   \n",
            "4  https://en.wikipedia.org/wiki/Jack_and_the_Bea...   \n",
            "\n",
            "                                                Plot  \n",
            "0  A bartender is working at a saloon, serving dr...  \n",
            "1  The moon, painted with a smiling face hangs ov...  \n",
            "2  The film, just over a minute long, is composed...  \n",
            "3  Lasting just 61 seconds and consisting of two ...  \n",
            "4  The earliest known adaptation of the classic f...  \n"
          ]
        }
      ]
    },
    {
      "cell_type": "markdown",
      "source": [
        "I have loaded the dataset but there are lot of columns, so I am removing everything and keeping only two columns"
      ],
      "metadata": {
        "id": "jh7Gd46RcBYS"
      }
    },
    {
      "cell_type": "code",
      "source": [
        "import pandas as pd #loading pandas module for displaying with help of data frame\n",
        "\n",
        "#Reading the first 1000 rows and only 'Title' and 'Plot' columns. We need those only so that we can query them and get the results\n",
        "df = pd.read_csv('/content/wiki_movie_plots_deduped.csv', usecols=['Title', 'Plot'], nrows=1000)\n",
        "df.head()"
      ],
      "metadata": {
        "colab": {
          "base_uri": "https://localhost:8080/",
          "height": 206
        },
        "id": "9VzGd2WlcDeS",
        "outputId": "49997c62-15d8-4e3e-fd60-ed0eafeaac1f"
      },
      "execution_count": null,
      "outputs": [
        {
          "output_type": "execute_result",
          "data": {
            "text/plain": [
              "                              Title  \\\n",
              "0            Kansas Saloon Smashers   \n",
              "1     Love by the Light of the Moon   \n",
              "2           The Martyred Presidents   \n",
              "3  Terrible Teddy, the Grizzly King   \n",
              "4            Jack and the Beanstalk   \n",
              "\n",
              "                                                Plot  \n",
              "0  A bartender is working at a saloon, serving dr...  \n",
              "1  The moon, painted with a smiling face hangs ov...  \n",
              "2  The film, just over a minute long, is composed...  \n",
              "3  Lasting just 61 seconds and consisting of two ...  \n",
              "4  The earliest known adaptation of the classic f...  "
            ],
            "text/html": [
              "\n",
              "  <div id=\"df-6f927720-d4a2-43bb-b868-9ffa7e62d66c\" class=\"colab-df-container\">\n",
              "    <div>\n",
              "<style scoped>\n",
              "    .dataframe tbody tr th:only-of-type {\n",
              "        vertical-align: middle;\n",
              "    }\n",
              "\n",
              "    .dataframe tbody tr th {\n",
              "        vertical-align: top;\n",
              "    }\n",
              "\n",
              "    .dataframe thead th {\n",
              "        text-align: right;\n",
              "    }\n",
              "</style>\n",
              "<table border=\"1\" class=\"dataframe\">\n",
              "  <thead>\n",
              "    <tr style=\"text-align: right;\">\n",
              "      <th></th>\n",
              "      <th>Title</th>\n",
              "      <th>Plot</th>\n",
              "    </tr>\n",
              "  </thead>\n",
              "  <tbody>\n",
              "    <tr>\n",
              "      <th>0</th>\n",
              "      <td>Kansas Saloon Smashers</td>\n",
              "      <td>A bartender is working at a saloon, serving dr...</td>\n",
              "    </tr>\n",
              "    <tr>\n",
              "      <th>1</th>\n",
              "      <td>Love by the Light of the Moon</td>\n",
              "      <td>The moon, painted with a smiling face hangs ov...</td>\n",
              "    </tr>\n",
              "    <tr>\n",
              "      <th>2</th>\n",
              "      <td>The Martyred Presidents</td>\n",
              "      <td>The film, just over a minute long, is composed...</td>\n",
              "    </tr>\n",
              "    <tr>\n",
              "      <th>3</th>\n",
              "      <td>Terrible Teddy, the Grizzly King</td>\n",
              "      <td>Lasting just 61 seconds and consisting of two ...</td>\n",
              "    </tr>\n",
              "    <tr>\n",
              "      <th>4</th>\n",
              "      <td>Jack and the Beanstalk</td>\n",
              "      <td>The earliest known adaptation of the classic f...</td>\n",
              "    </tr>\n",
              "  </tbody>\n",
              "</table>\n",
              "</div>\n",
              "    <div class=\"colab-df-buttons\">\n",
              "\n",
              "  <div class=\"colab-df-container\">\n",
              "    <button class=\"colab-df-convert\" onclick=\"convertToInteractive('df-6f927720-d4a2-43bb-b868-9ffa7e62d66c')\"\n",
              "            title=\"Convert this dataframe to an interactive table.\"\n",
              "            style=\"display:none;\">\n",
              "\n",
              "  <svg xmlns=\"http://www.w3.org/2000/svg\" height=\"24px\" viewBox=\"0 -960 960 960\">\n",
              "    <path d=\"M120-120v-720h720v720H120Zm60-500h600v-160H180v160Zm220 220h160v-160H400v160Zm0 220h160v-160H400v160ZM180-400h160v-160H180v160Zm440 0h160v-160H620v160ZM180-180h160v-160H180v160Zm440 0h160v-160H620v160Z\"/>\n",
              "  </svg>\n",
              "    </button>\n",
              "\n",
              "  <style>\n",
              "    .colab-df-container {\n",
              "      display:flex;\n",
              "      gap: 12px;\n",
              "    }\n",
              "\n",
              "    .colab-df-convert {\n",
              "      background-color: #E8F0FE;\n",
              "      border: none;\n",
              "      border-radius: 50%;\n",
              "      cursor: pointer;\n",
              "      display: none;\n",
              "      fill: #1967D2;\n",
              "      height: 32px;\n",
              "      padding: 0 0 0 0;\n",
              "      width: 32px;\n",
              "    }\n",
              "\n",
              "    .colab-df-convert:hover {\n",
              "      background-color: #E2EBFA;\n",
              "      box-shadow: 0px 1px 2px rgba(60, 64, 67, 0.3), 0px 1px 3px 1px rgba(60, 64, 67, 0.15);\n",
              "      fill: #174EA6;\n",
              "    }\n",
              "\n",
              "    .colab-df-buttons div {\n",
              "      margin-bottom: 4px;\n",
              "    }\n",
              "\n",
              "    [theme=dark] .colab-df-convert {\n",
              "      background-color: #3B4455;\n",
              "      fill: #D2E3FC;\n",
              "    }\n",
              "\n",
              "    [theme=dark] .colab-df-convert:hover {\n",
              "      background-color: #434B5C;\n",
              "      box-shadow: 0px 1px 3px 1px rgba(0, 0, 0, 0.15);\n",
              "      filter: drop-shadow(0px 1px 2px rgba(0, 0, 0, 0.3));\n",
              "      fill: #FFFFFF;\n",
              "    }\n",
              "  </style>\n",
              "\n",
              "    <script>\n",
              "      const buttonEl =\n",
              "        document.querySelector('#df-6f927720-d4a2-43bb-b868-9ffa7e62d66c button.colab-df-convert');\n",
              "      buttonEl.style.display =\n",
              "        google.colab.kernel.accessAllowed ? 'block' : 'none';\n",
              "\n",
              "      async function convertToInteractive(key) {\n",
              "        const element = document.querySelector('#df-6f927720-d4a2-43bb-b868-9ffa7e62d66c');\n",
              "        const dataTable =\n",
              "          await google.colab.kernel.invokeFunction('convertToInteractive',\n",
              "                                                    [key], {});\n",
              "        if (!dataTable) return;\n",
              "\n",
              "        const docLinkHtml = 'Like what you see? Visit the ' +\n",
              "          '<a target=\"_blank\" href=https://colab.research.google.com/notebooks/data_table.ipynb>data table notebook</a>'\n",
              "          + ' to learn more about interactive tables.';\n",
              "        element.innerHTML = '';\n",
              "        dataTable['output_type'] = 'display_data';\n",
              "        await google.colab.output.renderOutput(dataTable, element);\n",
              "        const docLink = document.createElement('div');\n",
              "        docLink.innerHTML = docLinkHtml;\n",
              "        element.appendChild(docLink);\n",
              "      }\n",
              "    </script>\n",
              "  </div>\n",
              "\n",
              "\n",
              "<div id=\"df-1cb35277-b7bc-4166-9a09-abcff9f5061a\">\n",
              "  <button class=\"colab-df-quickchart\" onclick=\"quickchart('df-1cb35277-b7bc-4166-9a09-abcff9f5061a')\"\n",
              "            title=\"Suggest charts\"\n",
              "            style=\"display:none;\">\n",
              "\n",
              "<svg xmlns=\"http://www.w3.org/2000/svg\" height=\"24px\"viewBox=\"0 0 24 24\"\n",
              "     width=\"24px\">\n",
              "    <g>\n",
              "        <path d=\"M19 3H5c-1.1 0-2 .9-2 2v14c0 1.1.9 2 2 2h14c1.1 0 2-.9 2-2V5c0-1.1-.9-2-2-2zM9 17H7v-7h2v7zm4 0h-2V7h2v10zm4 0h-2v-4h2v4z\"/>\n",
              "    </g>\n",
              "</svg>\n",
              "  </button>\n",
              "\n",
              "<style>\n",
              "  .colab-df-quickchart {\n",
              "      --bg-color: #E8F0FE;\n",
              "      --fill-color: #1967D2;\n",
              "      --hover-bg-color: #E2EBFA;\n",
              "      --hover-fill-color: #174EA6;\n",
              "      --disabled-fill-color: #AAA;\n",
              "      --disabled-bg-color: #DDD;\n",
              "  }\n",
              "\n",
              "  [theme=dark] .colab-df-quickchart {\n",
              "      --bg-color: #3B4455;\n",
              "      --fill-color: #D2E3FC;\n",
              "      --hover-bg-color: #434B5C;\n",
              "      --hover-fill-color: #FFFFFF;\n",
              "      --disabled-bg-color: #3B4455;\n",
              "      --disabled-fill-color: #666;\n",
              "  }\n",
              "\n",
              "  .colab-df-quickchart {\n",
              "    background-color: var(--bg-color);\n",
              "    border: none;\n",
              "    border-radius: 50%;\n",
              "    cursor: pointer;\n",
              "    display: none;\n",
              "    fill: var(--fill-color);\n",
              "    height: 32px;\n",
              "    padding: 0;\n",
              "    width: 32px;\n",
              "  }\n",
              "\n",
              "  .colab-df-quickchart:hover {\n",
              "    background-color: var(--hover-bg-color);\n",
              "    box-shadow: 0 1px 2px rgba(60, 64, 67, 0.3), 0 1px 3px 1px rgba(60, 64, 67, 0.15);\n",
              "    fill: var(--button-hover-fill-color);\n",
              "  }\n",
              "\n",
              "  .colab-df-quickchart-complete:disabled,\n",
              "  .colab-df-quickchart-complete:disabled:hover {\n",
              "    background-color: var(--disabled-bg-color);\n",
              "    fill: var(--disabled-fill-color);\n",
              "    box-shadow: none;\n",
              "  }\n",
              "\n",
              "  .colab-df-spinner {\n",
              "    border: 2px solid var(--fill-color);\n",
              "    border-color: transparent;\n",
              "    border-bottom-color: var(--fill-color);\n",
              "    animation:\n",
              "      spin 1s steps(1) infinite;\n",
              "  }\n",
              "\n",
              "  @keyframes spin {\n",
              "    0% {\n",
              "      border-color: transparent;\n",
              "      border-bottom-color: var(--fill-color);\n",
              "      border-left-color: var(--fill-color);\n",
              "    }\n",
              "    20% {\n",
              "      border-color: transparent;\n",
              "      border-left-color: var(--fill-color);\n",
              "      border-top-color: var(--fill-color);\n",
              "    }\n",
              "    30% {\n",
              "      border-color: transparent;\n",
              "      border-left-color: var(--fill-color);\n",
              "      border-top-color: var(--fill-color);\n",
              "      border-right-color: var(--fill-color);\n",
              "    }\n",
              "    40% {\n",
              "      border-color: transparent;\n",
              "      border-right-color: var(--fill-color);\n",
              "      border-top-color: var(--fill-color);\n",
              "    }\n",
              "    60% {\n",
              "      border-color: transparent;\n",
              "      border-right-color: var(--fill-color);\n",
              "    }\n",
              "    80% {\n",
              "      border-color: transparent;\n",
              "      border-right-color: var(--fill-color);\n",
              "      border-bottom-color: var(--fill-color);\n",
              "    }\n",
              "    90% {\n",
              "      border-color: transparent;\n",
              "      border-bottom-color: var(--fill-color);\n",
              "    }\n",
              "  }\n",
              "</style>\n",
              "\n",
              "  <script>\n",
              "    async function quickchart(key) {\n",
              "      const quickchartButtonEl =\n",
              "        document.querySelector('#' + key + ' button');\n",
              "      quickchartButtonEl.disabled = true;  // To prevent multiple clicks.\n",
              "      quickchartButtonEl.classList.add('colab-df-spinner');\n",
              "      try {\n",
              "        const charts = await google.colab.kernel.invokeFunction(\n",
              "            'suggestCharts', [key], {});\n",
              "      } catch (error) {\n",
              "        console.error('Error during call to suggestCharts:', error);\n",
              "      }\n",
              "      quickchartButtonEl.classList.remove('colab-df-spinner');\n",
              "      quickchartButtonEl.classList.add('colab-df-quickchart-complete');\n",
              "    }\n",
              "    (() => {\n",
              "      let quickchartButtonEl =\n",
              "        document.querySelector('#df-1cb35277-b7bc-4166-9a09-abcff9f5061a button');\n",
              "      quickchartButtonEl.style.display =\n",
              "        google.colab.kernel.accessAllowed ? 'block' : 'none';\n",
              "    })();\n",
              "  </script>\n",
              "</div>\n",
              "    </div>\n",
              "  </div>\n"
            ],
            "application/vnd.google.colaboratory.intrinsic+json": {
              "type": "dataframe",
              "variable_name": "df",
              "summary": "{\n  \"name\": \"df\",\n  \"rows\": 1000,\n  \"fields\": [\n    {\n      \"column\": \"Title\",\n      \"properties\": {\n        \"dtype\": \"string\",\n        \"num_unique_values\": 980,\n        \"samples\": [\n          \"Hardboiled Rose\",\n          \"Up and at 'Em\",\n          \"Joan the Woman\"\n        ],\n        \"semantic_type\": \"\",\n        \"description\": \"\"\n      }\n    },\n    {\n      \"column\": \"Plot\",\n      \"properties\": {\n        \"dtype\": \"string\",\n        \"num_unique_values\": 996,\n        \"samples\": [\n          \"After attending preparatory school and college in the Eastern United States, Wing Foot (Richard Dix) returns to his Navajo tribe and renounces their customs and beliefs, becoming an outcast among his own people. He later secretly visits the village of a rival tribe in order to see Corn Blossom (Julie Carter), his sweetheart, who has also been to school in the East. Her people discover his presence, and he is forced to flee into the desert, where he discovers oil. White prospectors also find the oil, and Wing Foot races them to the claim office, filing his claim first. Faced with marriage to a man she does not love, Corn Blossom takes refuge in the Navajo village. Her people come to take her back, and a pitched battle between the tribes is averted only when Wing Foot arrives and tells both tribes of the new good fortune of the Indian nations. He then claims Corn Blossom as his own.\",\n          \"Joan Prescott (Joan Crawford) is a vacuous and flirtatious daughter of the wealthy Montana rancher, John Prescott (Lloyd Ingraham). On the train, Joan's sister, Elizabeth (Dorothy Sebastian) tells her she's in love with Jeff (Ricardo Cortez). Jeff is more smitten with Joan and kisses her. Joan then impulsively gets off at the next whistle stop, where she meets Larry (Johnny Mack Brown), a Texas cowboy. He is a rancher on John Prescott's land, and does not know who Joan is. He expresses dismay at how spoiled Prescott's daughters are. Joan conceals her identity, refusing to say her name. She tells him to think of something he loves and call her that, and he chooses \\\"Montana.\\\"\\r\\nJoan and Larry fall for one another and are married. When they return to her father's ranch, the couple are nervous that he will not approve of the pairing. However, to their surprise, John Prescott is delighted for the couple and believes Larry is the kind of person who can finally settle Joan. At their party, celebrating their nuptials, Joan sees Jeff, with whom Joan does a daring dance. As they finish dancing, Joan and Jeff share a lingering kiss. After Jeff and Larry come to blows, Joan is embarrassed that Larry resorted to violence.\\r\\nAs Joan became familiar with Larry's posse of cowboy friends, she wants Larry to be accustomed to her group of highbrow city friends who are in Montana with John Prescott. She wants to go back to New York where the couple can live comfortably, but Larry feels it is his duty as a husband to provide for his wife and having her father take care of him is not an option.\\r\\nLater at another party, Larry catches Jeff trying to make another move on Joan, and the married couple get into a fight. In a fit of rage, she tells Larry that marrying him was the greatest mistake of her life and tells him to leave her alone. As he is walking away, she realizes her mistake and begs to be forgiven, but he rebuffs her. Even John Prescott advises him to forgive her, but Larry sees too many differences between the two to make the marriage work.\\r\\nWith the marriage over and Larry refusing to speak to Joan, the Prescotts\\u2014Joan in tow\\u2014decide to take the train back to New York. En route, the train is held up by masked cowboys, who take Joan as their only hostage. However, the whole robbery is a ruse and one of the masked cowboys is Larry who has come to take Joan back to their new life.\",\n          \"Seated in a park, Charlie gives his expert attention to the picture of a pretty girl on the cover of the Police Gazette. Since he doesn't have a girl of his own, Charlie becomes despondent and prepares to drown himself in the park's lake. He quickly changes his mind when an attractive girl approaches. However, she has a sailor boyfriend. Charlie and the sailor begin to fight. Shortly thereafter two policemen become involved in what has become a terrific brick fight between Charlie and the sailor. The brick war features strategic retreats and clever diversionary movements. Eventually Charlie settles matters by pushing the sailor and the policemen into the lake.\\r\\nChaplin was the only player in Recreation to receive a screen credit.\\r\\nThe film was only half a reel in length. A travel short, The Yosemite, made up the other half of the reel.\"\n        ],\n        \"semantic_type\": \"\",\n        \"description\": \"\"\n      }\n    }\n  ]\n}"
            }
          },
          "metadata": {},
          "execution_count": 3
        }
      ]
    },
    {
      "cell_type": "markdown",
      "source": [
        "Before continuing, you need to obtain a Fireworks API Key to use the Mistral 7B model.\n",
        "\n",
        "Checkout this quick guide to obtain your Fireworks API Key: https://readme.fireworks.ai/docs"
      ],
      "metadata": {
        "id": "yQjSYDKng2v9"
      }
    },
    {
      "cell_type": "code",
      "source": [
        "import pandas as pd\n",
        "\n",
        "# Specifying the path of the new CSV file with two columns and first thousand entries\n",
        "output_file = \"first_1000_entries_dataset.csv\"\n",
        "\n",
        "# Saving the DataFrame to a new CSV file\n",
        "df.to_csv(output_file, index=False)\n",
        "\n",
        "print(\"DataFrame saved to\", output_file)"
      ],
      "metadata": {
        "colab": {
          "base_uri": "https://localhost:8080/"
        },
        "id": "34cQERirfEUb",
        "outputId": "088fcf52-c73b-45ef-8325-6fd6e4b0bffc"
      },
      "execution_count": null,
      "outputs": [
        {
          "output_type": "stream",
          "name": "stdout",
          "text": [
            "DataFrame saved to first_1000_entries_dataset.csv\n"
          ]
        }
      ]
    },
    {
      "cell_type": "markdown",
      "source": [
        "saving the two columns and keeping it as a new dataset."
      ],
      "metadata": {
        "id": "4i-8pThvOqlU"
      }
    },
    {
      "cell_type": "code",
      "source": [
        "!pip install FireWorks"
      ],
      "metadata": {
        "colab": {
          "base_uri": "https://localhost:8080/"
        },
        "id": "llSmxkTqVsOJ",
        "outputId": "e487d558-612b-44de-ec9a-1c928fd62d4a"
      },
      "execution_count": null,
      "outputs": [
        {
          "output_type": "stream",
          "name": "stdout",
          "text": [
            "Requirement already satisfied: FireWorks in /usr/local/lib/python3.10/dist-packages (2.0.3)\n",
            "Requirement already satisfied: ruamel.yaml>=0.15.35 in /usr/local/lib/python3.10/dist-packages (from FireWorks) (0.18.6)\n",
            "Requirement already satisfied: pymongo>=3.3.0 in /usr/local/lib/python3.10/dist-packages (from FireWorks) (4.6.3)\n",
            "Requirement already satisfied: Jinja2>=2.8.0 in /usr/local/lib/python3.10/dist-packages (from FireWorks) (3.1.3)\n",
            "Requirement already satisfied: six>=1.10.0 in /usr/local/lib/python3.10/dist-packages (from FireWorks) (1.16.0)\n",
            "Requirement already satisfied: monty>=1.0.1 in /usr/local/lib/python3.10/dist-packages (from FireWorks) (2024.3.31)\n",
            "Requirement already satisfied: python-dateutil>=2.5.3 in /usr/local/lib/python3.10/dist-packages (from FireWorks) (2.8.2)\n",
            "Requirement already satisfied: tabulate>=0.7.5 in /usr/local/lib/python3.10/dist-packages (from FireWorks) (0.9.0)\n",
            "Requirement already satisfied: flask>=0.11.1 in /usr/local/lib/python3.10/dist-packages (from FireWorks) (2.2.5)\n",
            "Requirement already satisfied: flask-paginate>=0.4.5 in /usr/local/lib/python3.10/dist-packages (from FireWorks) (2024.3.28)\n",
            "Requirement already satisfied: gunicorn>=19.6.0 in /usr/local/lib/python3.10/dist-packages (from FireWorks) (21.2.0)\n",
            "Requirement already satisfied: tqdm>=4.8.4 in /usr/local/lib/python3.10/dist-packages (from FireWorks) (4.66.2)\n",
            "Requirement already satisfied: Werkzeug>=2.2.2 in /usr/local/lib/python3.10/dist-packages (from flask>=0.11.1->FireWorks) (3.0.2)\n",
            "Requirement already satisfied: itsdangerous>=2.0 in /usr/local/lib/python3.10/dist-packages (from flask>=0.11.1->FireWorks) (2.1.2)\n",
            "Requirement already satisfied: click>=8.0 in /usr/local/lib/python3.10/dist-packages (from flask>=0.11.1->FireWorks) (8.1.7)\n",
            "Requirement already satisfied: packaging in /usr/local/lib/python3.10/dist-packages (from gunicorn>=19.6.0->FireWorks) (24.0)\n",
            "Requirement already satisfied: MarkupSafe>=2.0 in /usr/local/lib/python3.10/dist-packages (from Jinja2>=2.8.0->FireWorks) (2.1.5)\n",
            "Requirement already satisfied: dnspython<3.0.0,>=1.16.0 in /usr/local/lib/python3.10/dist-packages (from pymongo>=3.3.0->FireWorks) (2.6.1)\n",
            "Requirement already satisfied: ruamel.yaml.clib>=0.2.7 in /usr/local/lib/python3.10/dist-packages (from ruamel.yaml>=0.15.35->FireWorks) (0.2.8)\n"
          ]
        }
      ]
    },
    {
      "cell_type": "markdown",
      "source": [
        "Installing the libraries with Fireworks API."
      ],
      "metadata": {
        "id": "_sOvnc0YO0F9"
      }
    },
    {
      "cell_type": "code",
      "source": [
        "!pip install python-dotenv  # For dotenv\n",
        "# For chromadb, you'll need the correct package name or installation method"
      ],
      "metadata": {
        "colab": {
          "base_uri": "https://localhost:8080/"
        },
        "id": "VOD3ugP7WIAV",
        "outputId": "5cdb1b84-a5a2-4f9d-c9dc-5244eb415b1d"
      },
      "execution_count": null,
      "outputs": [
        {
          "output_type": "stream",
          "name": "stdout",
          "text": [
            "Requirement already satisfied: python-dotenv in /usr/local/lib/python3.10/dist-packages (1.0.1)\n"
          ]
        }
      ]
    },
    {
      "cell_type": "markdown",
      "source": [
        "Installing libraries for operating with open AI keys"
      ],
      "metadata": {
        "id": "-B2fodj5PAMl"
      }
    },
    {
      "cell_type": "code",
      "source": [
        "import os\n",
        "from google.colab import auth\n",
        "\n",
        "auth.authenticate_user()\n",
        "\n",
        "os.environ['FIREWORKS_API_KEY'] = 'your_api_key_here'"
      ],
      "metadata": {
        "id": "jN4RzFDtXtdg"
      },
      "execution_count": null,
      "outputs": []
    },
    {
      "cell_type": "code",
      "source": [
        "from fireworks import LaunchPad\n",
        "import fireworks.client\n",
        "import os\n",
        "import dotenv\n",
        "import chromadb\n",
        "import json\n",
        "from tqdm.auto import tqdm\n",
        "import pandas as pd\n",
        "import random\n",
        "from google.colab import userdata\n",
        "\n",
        "fireworks.client.api_key = userdata.get('FIREWORKS_API_KEY')"
      ],
      "metadata": {
        "id": "pfJme3Yyg76B"
      },
      "execution_count": null,
      "outputs": []
    },
    {
      "cell_type": "markdown",
      "source": [
        "I have created a FIREWORKS_API_KEY and given the value and I hid it under Secrets tab in Google Colab"
      ],
      "metadata": {
        "id": "mmdrKXEYPJpm"
      }
    },
    {
      "cell_type": "code",
      "source": [
        "def get_completion(prompt, model=None, max_tokens=50):\n",
        "\n",
        "    fw_model_dir = \"accounts/fireworks/models/\"\n",
        "\n",
        "    if model is None:\n",
        "        model = fw_model_dir + \"llama-v2-7b\"\n",
        "    else:\n",
        "        model = fw_model_dir + model\n",
        "\n",
        "    completion = fireworks.client.Completion.create(\n",
        "        model=model,\n",
        "        prompt=prompt,\n",
        "        max_tokens=max_tokens,\n",
        "        temperature=0\n",
        "    )\n",
        "\n",
        "    return completion.choices[0].text"
      ],
      "metadata": {
        "id": "bIteCDsJMlDG"
      },
      "execution_count": null,
      "outputs": []
    },
    {
      "cell_type": "code",
      "source": [
        "get_completion(\"Hello, my name is\")"
      ],
      "metadata": {
        "colab": {
          "base_uri": "https://localhost:8080/",
          "height": 53
        },
        "id": "4B3hPN6OOAXF",
        "outputId": "3b539f2e-6cba-49d0-dd03-7938d50afc97"
      },
      "execution_count": null,
      "outputs": [
        {
          "output_type": "execute_result",
          "data": {
            "text/plain": [
              "' Katie and I am a 20 year old student at the University of Leeds. I am currently studying a BA in English Literature and Creative Writing. I have been working as a tutor for over 3 years now and I'"
            ],
            "application/vnd.google.colaboratory.intrinsic+json": {
              "type": "string"
            }
          },
          "metadata": {},
          "execution_count": 9
        }
      ]
    },
    {
      "cell_type": "markdown",
      "source": [
        "Testing whether Fireworks.ai connected or not."
      ],
      "metadata": {
        "id": "1Hk4HYhyPehL"
      }
    },
    {
      "cell_type": "code",
      "source": [
        "mistral_llm = \"mistral-7b-instruct-4k\"\n",
        "\n",
        "get_completion(\"Hello, my name is\", model=mistral_llm)"
      ],
      "metadata": {
        "colab": {
          "base_uri": "https://localhost:8080/",
          "height": 53
        },
        "id": "PVBw2Medd4AK",
        "outputId": "17d35d63-f2bd-438e-dbaf-6050321d57c4"
      },
      "execution_count": null,
      "outputs": [
        {
          "output_type": "execute_result",
          "data": {
            "text/plain": [
              "' [Your Name]. I am a [Your Profession/Occupation]. I am writing to [Purpose of Writing].\\n\\nI am writing to [Purpose of Writing] because [Reason for Writing]. I believe that ['"
            ],
            "application/vnd.google.colaboratory.intrinsic+json": {
              "type": "string"
            }
          },
          "metadata": {},
          "execution_count": 11
        }
      ]
    },
    {
      "cell_type": "code",
      "source": [
        "mistral_llm = \"mistral-7b-instruct-4k\"\n",
        "\n",
        "get_completion(\"Tell me 2 jokes\", model=mistral_llm)"
      ],
      "metadata": {
        "colab": {
          "base_uri": "https://localhost:8080/",
          "height": 53
        },
        "id": "G3Ui5SXvd_IA",
        "outputId": "20e1d943-ecd3-4d56-ec60-af93dd168cc6"
      },
      "execution_count": null,
      "outputs": [
        {
          "output_type": "execute_result",
          "data": {
            "text/plain": [
              "\".\\n1. Why don't scientists trust atoms? Because they make up everything!\\n2. Did you hear about the mathematician who’s afraid of negative numbers? He will stop at nothing to avoid them.\""
            ],
            "application/vnd.google.colaboratory.intrinsic+json": {
              "type": "string"
            }
          },
          "metadata": {},
          "execution_count": 12
        }
      ]
    },
    {
      "cell_type": "code",
      "source": [
        "mistral_llm = \"mistral-7b-instruct-4k\"\n",
        "\n",
        "get_completion(\"[INST]Tell me 2 jokes[/INST]\", model=mistral_llm)"
      ],
      "metadata": {
        "colab": {
          "base_uri": "https://localhost:8080/",
          "height": 53
        },
        "id": "Gu5te-TheDLU",
        "outputId": "6a36d016-e9f3-432e-c22f-dabb7cc555e6"
      },
      "execution_count": null,
      "outputs": [
        {
          "output_type": "execute_result",
          "data": {
            "text/plain": [
              "\" Sure, here are two jokes for you:\\n\\n1. Why don't scientists trust atoms? Because they make up everything!\\n2. Why did the tomato turn red? Because it saw the salad dressing!\""
            ],
            "application/vnd.google.colaboratory.intrinsic+json": {
              "type": "string"
            }
          },
          "metadata": {},
          "execution_count": 13
        }
      ]
    },
    {
      "cell_type": "code",
      "source": [
        "prompt = \"\"\"[INST]\n",
        "Given the following wedding guest data, write a very short 3-sentences thank you letter:\n",
        "\n",
        "{\n",
        "  \"name\": \"John Doe\",\n",
        "  \"relationship\": \"Bride's cousin\",\n",
        "  \"hometown\": \"New York, NY\",\n",
        "  \"fun_fact\": \"Climbed Mount Everest in 2020\",\n",
        "  \"attending_with\": \"Sophia Smith\",\n",
        "  \"bride_groom_name\": \"Tom and Mary\"\n",
        "}\n",
        "\n",
        "Use only the data provided in the JSON object above.\n",
        "\n",
        "The senders of the letter is the bride and groom, Tom and Mary.\n",
        "[/INST]\"\"\"\n",
        "\n",
        "get_completion(prompt, model=mistral_llm, max_tokens=150)"
      ],
      "metadata": {
        "colab": {
          "base_uri": "https://localhost:8080/",
          "height": 88
        },
        "id": "EPn7Y2QYeIxh",
        "outputId": "8c1c6e1e-8065-4d06-da05-3cf25f7f0201"
      },
      "execution_count": null,
      "outputs": [
        {
          "output_type": "execute_result",
          "data": {
            "text/plain": [
              "\" Dear John Doe,\\n\\nWe, Tom and Mary, would like to extend our heartfelt gratitude for your attendance at our wedding. It was a pleasure to have you there, and we truly appreciate the effort you made to be a part of our special day.\\n\\nWe were thrilled to learn about your fun fact - climbing Mount Everest is an incredible accomplishment! We hope you had a safe and memorable journey.\\n\\nThank you again for joining us on this special occasion. We hope to stay in touch and catch up on all the amazing things you've been up to.\\n\\nWith love,\\n\\nTom and Mary\""
            ],
            "application/vnd.google.colaboratory.intrinsic+json": {
              "type": "string"
            }
          },
          "metadata": {},
          "execution_count": 14
        }
      ]
    },
    {
      "cell_type": "markdown",
      "source": [
        "Testing whether the Mistral model is working or not by sending sample queries. Now since it is working,lets us go coding for the main functionality"
      ],
      "metadata": {
        "id": "v2AC8evwQIVW"
      }
    },
    {
      "cell_type": "markdown",
      "source": [
        "## RAG Use Case: Generating top five relevant search results\n",
        "\n",
        "For the RAG use case, we will be using the dataset whixh\n",
        "\n",
        "The user will provide an original paper title. We will then take that input and then use the dataset to generate a context of short and catchy papers titles that will help generate catchy title for the original input title.\n",
        "\n"
      ],
      "metadata": {
        "id": "9XR876Brehf7"
      }
    },
    {
      "cell_type": "code",
      "source": [
        "!pip install transformers datasets torch"
      ],
      "metadata": {
        "colab": {
          "base_uri": "https://localhost:8080/"
        },
        "id": "eVKsrUXclKFg",
        "outputId": "0fb1dd1b-7b12-4c70-e34e-c5ee31bbfa8f"
      },
      "execution_count": null,
      "outputs": [
        {
          "output_type": "stream",
          "name": "stdout",
          "text": [
            "Requirement already satisfied: transformers in /usr/local/lib/python3.10/dist-packages (4.38.2)\n",
            "Collecting datasets\n",
            "  Downloading datasets-2.18.0-py3-none-any.whl (510 kB)\n",
            "\u001b[2K     \u001b[90m━━━━━━━━━━━━━━━━━━━━━━━━━━━━━━━━━━━━━━━━\u001b[0m \u001b[32m510.5/510.5 kB\u001b[0m \u001b[31m7.4 MB/s\u001b[0m eta \u001b[36m0:00:00\u001b[0m\n",
            "\u001b[?25hRequirement already satisfied: torch in /usr/local/lib/python3.10/dist-packages (2.2.1+cu121)\n",
            "Requirement already satisfied: filelock in /usr/local/lib/python3.10/dist-packages (from transformers) (3.13.3)\n",
            "Requirement already satisfied: huggingface-hub<1.0,>=0.19.3 in /usr/local/lib/python3.10/dist-packages (from transformers) (0.20.3)\n",
            "Requirement already satisfied: numpy>=1.17 in /usr/local/lib/python3.10/dist-packages (from transformers) (1.25.2)\n",
            "Requirement already satisfied: packaging>=20.0 in /usr/local/lib/python3.10/dist-packages (from transformers) (24.0)\n",
            "Requirement already satisfied: pyyaml>=5.1 in /usr/local/lib/python3.10/dist-packages (from transformers) (6.0.1)\n",
            "Requirement already satisfied: regex!=2019.12.17 in /usr/local/lib/python3.10/dist-packages (from transformers) (2023.12.25)\n",
            "Requirement already satisfied: requests in /usr/local/lib/python3.10/dist-packages (from transformers) (2.31.0)\n",
            "Requirement already satisfied: tokenizers<0.19,>=0.14 in /usr/local/lib/python3.10/dist-packages (from transformers) (0.15.2)\n",
            "Requirement already satisfied: safetensors>=0.4.1 in /usr/local/lib/python3.10/dist-packages (from transformers) (0.4.2)\n",
            "Requirement already satisfied: tqdm>=4.27 in /usr/local/lib/python3.10/dist-packages (from transformers) (4.66.2)\n",
            "Requirement already satisfied: pyarrow>=12.0.0 in /usr/local/lib/python3.10/dist-packages (from datasets) (14.0.2)\n",
            "Requirement already satisfied: pyarrow-hotfix in /usr/local/lib/python3.10/dist-packages (from datasets) (0.6)\n",
            "Collecting dill<0.3.9,>=0.3.0 (from datasets)\n",
            "  Downloading dill-0.3.8-py3-none-any.whl (116 kB)\n",
            "\u001b[2K     \u001b[90m━━━━━━━━━━━━━━━━━━━━━━━━━━━━━━━━━━━━━━━━\u001b[0m \u001b[32m116.3/116.3 kB\u001b[0m \u001b[31m15.6 MB/s\u001b[0m eta \u001b[36m0:00:00\u001b[0m\n",
            "\u001b[?25hRequirement already satisfied: pandas in /usr/local/lib/python3.10/dist-packages (from datasets) (2.0.3)\n",
            "Collecting xxhash (from datasets)\n",
            "  Downloading xxhash-3.4.1-cp310-cp310-manylinux_2_17_x86_64.manylinux2014_x86_64.whl (194 kB)\n",
            "\u001b[2K     \u001b[90m━━━━━━━━━━━━━━━━━━━━━━━━━━━━━━━━━━━━━━━━\u001b[0m \u001b[32m194.1/194.1 kB\u001b[0m \u001b[31m23.0 MB/s\u001b[0m eta \u001b[36m0:00:00\u001b[0m\n",
            "\u001b[?25hCollecting multiprocess (from datasets)\n",
            "  Downloading multiprocess-0.70.16-py310-none-any.whl (134 kB)\n",
            "\u001b[2K     \u001b[90m━━━━━━━━━━━━━━━━━━━━━━━━━━━━━━━━━━━━━━━━\u001b[0m \u001b[32m134.8/134.8 kB\u001b[0m \u001b[31m16.7 MB/s\u001b[0m eta \u001b[36m0:00:00\u001b[0m\n",
            "\u001b[?25hRequirement already satisfied: fsspec[http]<=2024.2.0,>=2023.1.0 in /usr/local/lib/python3.10/dist-packages (from datasets) (2023.6.0)\n",
            "Requirement already satisfied: aiohttp in /usr/local/lib/python3.10/dist-packages (from datasets) (3.9.3)\n",
            "Requirement already satisfied: typing-extensions>=4.8.0 in /usr/local/lib/python3.10/dist-packages (from torch) (4.10.0)\n",
            "Requirement already satisfied: sympy in /usr/local/lib/python3.10/dist-packages (from torch) (1.12)\n",
            "Requirement already satisfied: networkx in /usr/local/lib/python3.10/dist-packages (from torch) (3.2.1)\n",
            "Requirement already satisfied: jinja2 in /usr/local/lib/python3.10/dist-packages (from torch) (3.1.3)\n",
            "Requirement already satisfied: nvidia-cuda-nvrtc-cu12==12.1.105 in /usr/local/lib/python3.10/dist-packages (from torch) (12.1.105)\n",
            "Requirement already satisfied: nvidia-cuda-runtime-cu12==12.1.105 in /usr/local/lib/python3.10/dist-packages (from torch) (12.1.105)\n",
            "Requirement already satisfied: nvidia-cuda-cupti-cu12==12.1.105 in /usr/local/lib/python3.10/dist-packages (from torch) (12.1.105)\n",
            "Requirement already satisfied: nvidia-cudnn-cu12==8.9.2.26 in /usr/local/lib/python3.10/dist-packages (from torch) (8.9.2.26)\n",
            "Requirement already satisfied: nvidia-cublas-cu12==12.1.3.1 in /usr/local/lib/python3.10/dist-packages (from torch) (12.1.3.1)\n",
            "Requirement already satisfied: nvidia-cufft-cu12==11.0.2.54 in /usr/local/lib/python3.10/dist-packages (from torch) (11.0.2.54)\n",
            "Requirement already satisfied: nvidia-curand-cu12==10.3.2.106 in /usr/local/lib/python3.10/dist-packages (from torch) (10.3.2.106)\n",
            "Requirement already satisfied: nvidia-cusolver-cu12==11.4.5.107 in /usr/local/lib/python3.10/dist-packages (from torch) (11.4.5.107)\n",
            "Requirement already satisfied: nvidia-cusparse-cu12==12.1.0.106 in /usr/local/lib/python3.10/dist-packages (from torch) (12.1.0.106)\n",
            "Requirement already satisfied: nvidia-nccl-cu12==2.19.3 in /usr/local/lib/python3.10/dist-packages (from torch) (2.19.3)\n",
            "Requirement already satisfied: nvidia-nvtx-cu12==12.1.105 in /usr/local/lib/python3.10/dist-packages (from torch) (12.1.105)\n",
            "Requirement already satisfied: triton==2.2.0 in /usr/local/lib/python3.10/dist-packages (from torch) (2.2.0)\n",
            "Requirement already satisfied: nvidia-nvjitlink-cu12 in /usr/local/lib/python3.10/dist-packages (from nvidia-cusolver-cu12==11.4.5.107->torch) (12.4.127)\n",
            "Requirement already satisfied: aiosignal>=1.1.2 in /usr/local/lib/python3.10/dist-packages (from aiohttp->datasets) (1.3.1)\n",
            "Requirement already satisfied: attrs>=17.3.0 in /usr/local/lib/python3.10/dist-packages (from aiohttp->datasets) (23.2.0)\n",
            "Requirement already satisfied: frozenlist>=1.1.1 in /usr/local/lib/python3.10/dist-packages (from aiohttp->datasets) (1.4.1)\n",
            "Requirement already satisfied: multidict<7.0,>=4.5 in /usr/local/lib/python3.10/dist-packages (from aiohttp->datasets) (6.0.5)\n",
            "Requirement already satisfied: yarl<2.0,>=1.0 in /usr/local/lib/python3.10/dist-packages (from aiohttp->datasets) (1.9.4)\n",
            "Requirement already satisfied: async-timeout<5.0,>=4.0 in /usr/local/lib/python3.10/dist-packages (from aiohttp->datasets) (4.0.3)\n",
            "Requirement already satisfied: charset-normalizer<4,>=2 in /usr/local/lib/python3.10/dist-packages (from requests->transformers) (3.3.2)\n",
            "Requirement already satisfied: idna<4,>=2.5 in /usr/local/lib/python3.10/dist-packages (from requests->transformers) (3.6)\n",
            "Requirement already satisfied: urllib3<3,>=1.21.1 in /usr/local/lib/python3.10/dist-packages (from requests->transformers) (2.0.7)\n",
            "Requirement already satisfied: certifi>=2017.4.17 in /usr/local/lib/python3.10/dist-packages (from requests->transformers) (2024.2.2)\n",
            "Requirement already satisfied: MarkupSafe>=2.0 in /usr/local/lib/python3.10/dist-packages (from jinja2->torch) (2.1.5)\n",
            "Requirement already satisfied: python-dateutil>=2.8.2 in /usr/local/lib/python3.10/dist-packages (from pandas->datasets) (2.8.2)\n",
            "Requirement already satisfied: pytz>=2020.1 in /usr/local/lib/python3.10/dist-packages (from pandas->datasets) (2023.4)\n",
            "Requirement already satisfied: tzdata>=2022.1 in /usr/local/lib/python3.10/dist-packages (from pandas->datasets) (2024.1)\n",
            "Requirement already satisfied: mpmath>=0.19 in /usr/local/lib/python3.10/dist-packages (from sympy->torch) (1.3.0)\n",
            "Requirement already satisfied: six>=1.5 in /usr/local/lib/python3.10/dist-packages (from python-dateutil>=2.8.2->pandas->datasets) (1.16.0)\n",
            "Installing collected packages: xxhash, dill, multiprocess, datasets\n",
            "Successfully installed datasets-2.18.0 dill-0.3.8 multiprocess-0.70.16 xxhash-3.4.1\n"
          ]
        }
      ]
    },
    {
      "cell_type": "code",
      "source": [
        "!pip install sentence-transformers chromadb tqdm"
      ],
      "metadata": {
        "colab": {
          "base_uri": "https://localhost:8080/"
        },
        "id": "vrvK351jpJsY",
        "outputId": "ec75ba65-0d83-42fd-cbf1-62d8eac25f5c"
      },
      "execution_count": null,
      "outputs": [
        {
          "output_type": "stream",
          "name": "stdout",
          "text": [
            "Requirement already satisfied: sentence-transformers in /usr/local/lib/python3.10/dist-packages (2.6.1)\n",
            "Requirement already satisfied: chromadb in /usr/local/lib/python3.10/dist-packages (0.4.24)\n",
            "Requirement already satisfied: tqdm in /usr/local/lib/python3.10/dist-packages (4.66.2)\n",
            "Requirement already satisfied: transformers<5.0.0,>=4.32.0 in /usr/local/lib/python3.10/dist-packages (from sentence-transformers) (4.38.2)\n",
            "Requirement already satisfied: torch>=1.11.0 in /usr/local/lib/python3.10/dist-packages (from sentence-transformers) (2.2.1+cu121)\n",
            "Requirement already satisfied: numpy in /usr/local/lib/python3.10/dist-packages (from sentence-transformers) (1.25.2)\n",
            "Requirement already satisfied: scikit-learn in /usr/local/lib/python3.10/dist-packages (from sentence-transformers) (1.2.2)\n",
            "Requirement already satisfied: scipy in /usr/local/lib/python3.10/dist-packages (from sentence-transformers) (1.11.4)\n",
            "Requirement already satisfied: huggingface-hub>=0.15.1 in /usr/local/lib/python3.10/dist-packages (from sentence-transformers) (0.20.3)\n",
            "Requirement already satisfied: Pillow in /usr/local/lib/python3.10/dist-packages (from sentence-transformers) (9.4.0)\n",
            "Requirement already satisfied: build>=1.0.3 in /usr/local/lib/python3.10/dist-packages (from chromadb) (1.2.1)\n",
            "Requirement already satisfied: requests>=2.28 in /usr/local/lib/python3.10/dist-packages (from chromadb) (2.31.0)\n",
            "Requirement already satisfied: pydantic>=1.9 in /usr/local/lib/python3.10/dist-packages (from chromadb) (2.6.4)\n",
            "Requirement already satisfied: chroma-hnswlib==0.7.3 in /usr/local/lib/python3.10/dist-packages (from chromadb) (0.7.3)\n",
            "Requirement already satisfied: fastapi>=0.95.2 in /usr/local/lib/python3.10/dist-packages (from chromadb) (0.110.1)\n",
            "Requirement already satisfied: uvicorn[standard]>=0.18.3 in /usr/local/lib/python3.10/dist-packages (from chromadb) (0.29.0)\n",
            "Requirement already satisfied: posthog>=2.4.0 in /usr/local/lib/python3.10/dist-packages (from chromadb) (3.5.0)\n",
            "Requirement already satisfied: typing-extensions>=4.5.0 in /usr/local/lib/python3.10/dist-packages (from chromadb) (4.10.0)\n",
            "Requirement already satisfied: pulsar-client>=3.1.0 in /usr/local/lib/python3.10/dist-packages (from chromadb) (3.4.0)\n",
            "Requirement already satisfied: onnxruntime>=1.14.1 in /usr/local/lib/python3.10/dist-packages (from chromadb) (1.17.1)\n",
            "Requirement already satisfied: opentelemetry-api>=1.2.0 in /usr/local/lib/python3.10/dist-packages (from chromadb) (1.24.0)\n",
            "Requirement already satisfied: opentelemetry-exporter-otlp-proto-grpc>=1.2.0 in /usr/local/lib/python3.10/dist-packages (from chromadb) (1.24.0)\n",
            "Requirement already satisfied: opentelemetry-instrumentation-fastapi>=0.41b0 in /usr/local/lib/python3.10/dist-packages (from chromadb) (0.45b0)\n",
            "Requirement already satisfied: opentelemetry-sdk>=1.2.0 in /usr/local/lib/python3.10/dist-packages (from chromadb) (1.24.0)\n",
            "Requirement already satisfied: tokenizers>=0.13.2 in /usr/local/lib/python3.10/dist-packages (from chromadb) (0.15.2)\n",
            "Requirement already satisfied: pypika>=0.48.9 in /usr/local/lib/python3.10/dist-packages (from chromadb) (0.48.9)\n",
            "Requirement already satisfied: overrides>=7.3.1 in /usr/local/lib/python3.10/dist-packages (from chromadb) (7.7.0)\n",
            "Requirement already satisfied: importlib-resources in /usr/local/lib/python3.10/dist-packages (from chromadb) (6.4.0)\n",
            "Requirement already satisfied: grpcio>=1.58.0 in /usr/local/lib/python3.10/dist-packages (from chromadb) (1.62.1)\n",
            "Requirement already satisfied: bcrypt>=4.0.1 in /usr/local/lib/python3.10/dist-packages (from chromadb) (4.1.2)\n",
            "Requirement already satisfied: typer>=0.9.0 in /usr/local/lib/python3.10/dist-packages (from chromadb) (0.9.4)\n",
            "Requirement already satisfied: kubernetes>=28.1.0 in /usr/local/lib/python3.10/dist-packages (from chromadb) (29.0.0)\n",
            "Requirement already satisfied: tenacity>=8.2.3 in /usr/local/lib/python3.10/dist-packages (from chromadb) (8.2.3)\n",
            "Requirement already satisfied: PyYAML>=6.0.0 in /usr/local/lib/python3.10/dist-packages (from chromadb) (6.0.1)\n",
            "Requirement already satisfied: mmh3>=4.0.1 in /usr/local/lib/python3.10/dist-packages (from chromadb) (4.1.0)\n",
            "Requirement already satisfied: orjson>=3.9.12 in /usr/local/lib/python3.10/dist-packages (from chromadb) (3.10.0)\n",
            "Requirement already satisfied: packaging>=19.1 in /usr/local/lib/python3.10/dist-packages (from build>=1.0.3->chromadb) (24.0)\n",
            "Requirement already satisfied: pyproject_hooks in /usr/local/lib/python3.10/dist-packages (from build>=1.0.3->chromadb) (1.0.0)\n",
            "Requirement already satisfied: tomli>=1.1.0 in /usr/local/lib/python3.10/dist-packages (from build>=1.0.3->chromadb) (2.0.1)\n",
            "Requirement already satisfied: starlette<0.38.0,>=0.37.2 in /usr/local/lib/python3.10/dist-packages (from fastapi>=0.95.2->chromadb) (0.37.2)\n",
            "Requirement already satisfied: filelock in /usr/local/lib/python3.10/dist-packages (from huggingface-hub>=0.15.1->sentence-transformers) (3.13.3)\n",
            "Requirement already satisfied: fsspec>=2023.5.0 in /usr/local/lib/python3.10/dist-packages (from huggingface-hub>=0.15.1->sentence-transformers) (2023.6.0)\n",
            "Requirement already satisfied: certifi>=14.05.14 in /usr/local/lib/python3.10/dist-packages (from kubernetes>=28.1.0->chromadb) (2024.2.2)\n",
            "Requirement already satisfied: six>=1.9.0 in /usr/local/lib/python3.10/dist-packages (from kubernetes>=28.1.0->chromadb) (1.16.0)\n",
            "Requirement already satisfied: python-dateutil>=2.5.3 in /usr/local/lib/python3.10/dist-packages (from kubernetes>=28.1.0->chromadb) (2.8.2)\n",
            "Requirement already satisfied: google-auth>=1.0.1 in /usr/local/lib/python3.10/dist-packages (from kubernetes>=28.1.0->chromadb) (2.27.0)\n",
            "Requirement already satisfied: websocket-client!=0.40.0,!=0.41.*,!=0.42.*,>=0.32.0 in /usr/local/lib/python3.10/dist-packages (from kubernetes>=28.1.0->chromadb) (1.7.0)\n",
            "Requirement already satisfied: requests-oauthlib in /usr/local/lib/python3.10/dist-packages (from kubernetes>=28.1.0->chromadb) (1.3.1)\n",
            "Requirement already satisfied: oauthlib>=3.2.2 in /usr/local/lib/python3.10/dist-packages (from kubernetes>=28.1.0->chromadb) (3.2.2)\n",
            "Requirement already satisfied: urllib3>=1.24.2 in /usr/local/lib/python3.10/dist-packages (from kubernetes>=28.1.0->chromadb) (2.0.7)\n",
            "Requirement already satisfied: coloredlogs in /usr/local/lib/python3.10/dist-packages (from onnxruntime>=1.14.1->chromadb) (15.0.1)\n",
            "Requirement already satisfied: flatbuffers in /usr/local/lib/python3.10/dist-packages (from onnxruntime>=1.14.1->chromadb) (24.3.25)\n",
            "Requirement already satisfied: protobuf in /usr/local/lib/python3.10/dist-packages (from onnxruntime>=1.14.1->chromadb) (3.20.3)\n",
            "Requirement already satisfied: sympy in /usr/local/lib/python3.10/dist-packages (from onnxruntime>=1.14.1->chromadb) (1.12)\n",
            "Requirement already satisfied: deprecated>=1.2.6 in /usr/local/lib/python3.10/dist-packages (from opentelemetry-api>=1.2.0->chromadb) (1.2.14)\n",
            "Requirement already satisfied: importlib-metadata<=7.0,>=6.0 in /usr/local/lib/python3.10/dist-packages (from opentelemetry-api>=1.2.0->chromadb) (7.0.0)\n",
            "Requirement already satisfied: googleapis-common-protos~=1.52 in /usr/local/lib/python3.10/dist-packages (from opentelemetry-exporter-otlp-proto-grpc>=1.2.0->chromadb) (1.63.0)\n",
            "Requirement already satisfied: opentelemetry-exporter-otlp-proto-common==1.24.0 in /usr/local/lib/python3.10/dist-packages (from opentelemetry-exporter-otlp-proto-grpc>=1.2.0->chromadb) (1.24.0)\n",
            "Requirement already satisfied: opentelemetry-proto==1.24.0 in /usr/local/lib/python3.10/dist-packages (from opentelemetry-exporter-otlp-proto-grpc>=1.2.0->chromadb) (1.24.0)\n",
            "Requirement already satisfied: opentelemetry-instrumentation-asgi==0.45b0 in /usr/local/lib/python3.10/dist-packages (from opentelemetry-instrumentation-fastapi>=0.41b0->chromadb) (0.45b0)\n",
            "Requirement already satisfied: opentelemetry-instrumentation==0.45b0 in /usr/local/lib/python3.10/dist-packages (from opentelemetry-instrumentation-fastapi>=0.41b0->chromadb) (0.45b0)\n",
            "Requirement already satisfied: opentelemetry-semantic-conventions==0.45b0 in /usr/local/lib/python3.10/dist-packages (from opentelemetry-instrumentation-fastapi>=0.41b0->chromadb) (0.45b0)\n",
            "Requirement already satisfied: opentelemetry-util-http==0.45b0 in /usr/local/lib/python3.10/dist-packages (from opentelemetry-instrumentation-fastapi>=0.41b0->chromadb) (0.45b0)\n",
            "Requirement already satisfied: setuptools>=16.0 in /usr/local/lib/python3.10/dist-packages (from opentelemetry-instrumentation==0.45b0->opentelemetry-instrumentation-fastapi>=0.41b0->chromadb) (67.7.2)\n",
            "Requirement already satisfied: wrapt<2.0.0,>=1.0.0 in /usr/local/lib/python3.10/dist-packages (from opentelemetry-instrumentation==0.45b0->opentelemetry-instrumentation-fastapi>=0.41b0->chromadb) (1.14.1)\n",
            "Requirement already satisfied: asgiref~=3.0 in /usr/local/lib/python3.10/dist-packages (from opentelemetry-instrumentation-asgi==0.45b0->opentelemetry-instrumentation-fastapi>=0.41b0->chromadb) (3.8.1)\n",
            "Requirement already satisfied: monotonic>=1.5 in /usr/local/lib/python3.10/dist-packages (from posthog>=2.4.0->chromadb) (1.6)\n",
            "Requirement already satisfied: backoff>=1.10.0 in /usr/local/lib/python3.10/dist-packages (from posthog>=2.4.0->chromadb) (2.2.1)\n",
            "Requirement already satisfied: annotated-types>=0.4.0 in /usr/local/lib/python3.10/dist-packages (from pydantic>=1.9->chromadb) (0.6.0)\n",
            "Requirement already satisfied: pydantic-core==2.16.3 in /usr/local/lib/python3.10/dist-packages (from pydantic>=1.9->chromadb) (2.16.3)\n",
            "Requirement already satisfied: charset-normalizer<4,>=2 in /usr/local/lib/python3.10/dist-packages (from requests>=2.28->chromadb) (3.3.2)\n",
            "Requirement already satisfied: idna<4,>=2.5 in /usr/local/lib/python3.10/dist-packages (from requests>=2.28->chromadb) (3.6)\n",
            "Requirement already satisfied: networkx in /usr/local/lib/python3.10/dist-packages (from torch>=1.11.0->sentence-transformers) (3.2.1)\n",
            "Requirement already satisfied: jinja2 in /usr/local/lib/python3.10/dist-packages (from torch>=1.11.0->sentence-transformers) (3.1.3)\n",
            "Requirement already satisfied: nvidia-cuda-nvrtc-cu12==12.1.105 in /usr/local/lib/python3.10/dist-packages (from torch>=1.11.0->sentence-transformers) (12.1.105)\n",
            "Requirement already satisfied: nvidia-cuda-runtime-cu12==12.1.105 in /usr/local/lib/python3.10/dist-packages (from torch>=1.11.0->sentence-transformers) (12.1.105)\n",
            "Requirement already satisfied: nvidia-cuda-cupti-cu12==12.1.105 in /usr/local/lib/python3.10/dist-packages (from torch>=1.11.0->sentence-transformers) (12.1.105)\n",
            "Requirement already satisfied: nvidia-cudnn-cu12==8.9.2.26 in /usr/local/lib/python3.10/dist-packages (from torch>=1.11.0->sentence-transformers) (8.9.2.26)\n",
            "Requirement already satisfied: nvidia-cublas-cu12==12.1.3.1 in /usr/local/lib/python3.10/dist-packages (from torch>=1.11.0->sentence-transformers) (12.1.3.1)\n",
            "Requirement already satisfied: nvidia-cufft-cu12==11.0.2.54 in /usr/local/lib/python3.10/dist-packages (from torch>=1.11.0->sentence-transformers) (11.0.2.54)\n",
            "Requirement already satisfied: nvidia-curand-cu12==10.3.2.106 in /usr/local/lib/python3.10/dist-packages (from torch>=1.11.0->sentence-transformers) (10.3.2.106)\n",
            "Requirement already satisfied: nvidia-cusolver-cu12==11.4.5.107 in /usr/local/lib/python3.10/dist-packages (from torch>=1.11.0->sentence-transformers) (11.4.5.107)\n",
            "Requirement already satisfied: nvidia-cusparse-cu12==12.1.0.106 in /usr/local/lib/python3.10/dist-packages (from torch>=1.11.0->sentence-transformers) (12.1.0.106)\n",
            "Requirement already satisfied: nvidia-nccl-cu12==2.19.3 in /usr/local/lib/python3.10/dist-packages (from torch>=1.11.0->sentence-transformers) (2.19.3)\n",
            "Requirement already satisfied: nvidia-nvtx-cu12==12.1.105 in /usr/local/lib/python3.10/dist-packages (from torch>=1.11.0->sentence-transformers) (12.1.105)\n",
            "Requirement already satisfied: triton==2.2.0 in /usr/local/lib/python3.10/dist-packages (from torch>=1.11.0->sentence-transformers) (2.2.0)\n",
            "Requirement already satisfied: nvidia-nvjitlink-cu12 in /usr/local/lib/python3.10/dist-packages (from nvidia-cusolver-cu12==11.4.5.107->torch>=1.11.0->sentence-transformers) (12.4.127)\n",
            "Requirement already satisfied: regex!=2019.12.17 in /usr/local/lib/python3.10/dist-packages (from transformers<5.0.0,>=4.32.0->sentence-transformers) (2023.12.25)\n",
            "Requirement already satisfied: safetensors>=0.4.1 in /usr/local/lib/python3.10/dist-packages (from transformers<5.0.0,>=4.32.0->sentence-transformers) (0.4.2)\n",
            "Requirement already satisfied: click<9.0.0,>=7.1.1 in /usr/local/lib/python3.10/dist-packages (from typer>=0.9.0->chromadb) (8.1.7)\n",
            "Requirement already satisfied: h11>=0.8 in /usr/local/lib/python3.10/dist-packages (from uvicorn[standard]>=0.18.3->chromadb) (0.14.0)\n",
            "Requirement already satisfied: httptools>=0.5.0 in /usr/local/lib/python3.10/dist-packages (from uvicorn[standard]>=0.18.3->chromadb) (0.6.1)\n",
            "Requirement already satisfied: python-dotenv>=0.13 in /usr/local/lib/python3.10/dist-packages (from uvicorn[standard]>=0.18.3->chromadb) (1.0.1)\n",
            "Requirement already satisfied: uvloop!=0.15.0,!=0.15.1,>=0.14.0 in /usr/local/lib/python3.10/dist-packages (from uvicorn[standard]>=0.18.3->chromadb) (0.19.0)\n",
            "Requirement already satisfied: watchfiles>=0.13 in /usr/local/lib/python3.10/dist-packages (from uvicorn[standard]>=0.18.3->chromadb) (0.21.0)\n",
            "Requirement already satisfied: websockets>=10.4 in /usr/local/lib/python3.10/dist-packages (from uvicorn[standard]>=0.18.3->chromadb) (12.0)\n",
            "Requirement already satisfied: joblib>=1.1.1 in /usr/local/lib/python3.10/dist-packages (from scikit-learn->sentence-transformers) (1.3.2)\n",
            "Requirement already satisfied: threadpoolctl>=2.0.0 in /usr/local/lib/python3.10/dist-packages (from scikit-learn->sentence-transformers) (3.4.0)\n",
            "Requirement already satisfied: cachetools<6.0,>=2.0.0 in /usr/local/lib/python3.10/dist-packages (from google-auth>=1.0.1->kubernetes>=28.1.0->chromadb) (5.3.3)\n",
            "Requirement already satisfied: pyasn1-modules>=0.2.1 in /usr/local/lib/python3.10/dist-packages (from google-auth>=1.0.1->kubernetes>=28.1.0->chromadb) (0.4.0)\n",
            "Requirement already satisfied: rsa<5,>=3.1.4 in /usr/local/lib/python3.10/dist-packages (from google-auth>=1.0.1->kubernetes>=28.1.0->chromadb) (4.9)\n",
            "Requirement already satisfied: zipp>=0.5 in /usr/local/lib/python3.10/dist-packages (from importlib-metadata<=7.0,>=6.0->opentelemetry-api>=1.2.0->chromadb) (3.18.1)\n",
            "Requirement already satisfied: anyio<5,>=3.4.0 in /usr/local/lib/python3.10/dist-packages (from starlette<0.38.0,>=0.37.2->fastapi>=0.95.2->chromadb) (3.7.1)\n",
            "Requirement already satisfied: humanfriendly>=9.1 in /usr/local/lib/python3.10/dist-packages (from coloredlogs->onnxruntime>=1.14.1->chromadb) (10.0)\n",
            "Requirement already satisfied: MarkupSafe>=2.0 in /usr/local/lib/python3.10/dist-packages (from jinja2->torch>=1.11.0->sentence-transformers) (2.1.5)\n",
            "Requirement already satisfied: mpmath>=0.19 in /usr/local/lib/python3.10/dist-packages (from sympy->onnxruntime>=1.14.1->chromadb) (1.3.0)\n",
            "Requirement already satisfied: sniffio>=1.1 in /usr/local/lib/python3.10/dist-packages (from anyio<5,>=3.4.0->starlette<0.38.0,>=0.37.2->fastapi>=0.95.2->chromadb) (1.3.1)\n",
            "Requirement already satisfied: exceptiongroup in /usr/local/lib/python3.10/dist-packages (from anyio<5,>=3.4.0->starlette<0.38.0,>=0.37.2->fastapi>=0.95.2->chromadb) (1.2.0)\n",
            "Requirement already satisfied: pyasn1<0.7.0,>=0.4.6 in /usr/local/lib/python3.10/dist-packages (from pyasn1-modules>=0.2.1->google-auth>=1.0.1->kubernetes>=28.1.0->chromadb) (0.6.0)\n"
          ]
        }
      ]
    },
    {
      "cell_type": "markdown",
      "source": [
        "Installing all the required libraries for implementing the RAG application"
      ],
      "metadata": {
        "id": "bC1YSTHZQqGa"
      }
    },
    {
      "cell_type": "code",
      "source": [
        "import pandas as pd\n",
        "\n",
        "df2 = pd.read_csv('/content/first_1000_entries_dataset.csv')\n",
        "df2.head()"
      ],
      "metadata": {
        "colab": {
          "base_uri": "https://localhost:8080/",
          "height": 206
        },
        "id": "d3zBVeQDpRnb",
        "outputId": "f47397f7-221c-4d1e-cd58-7729a6bbd768"
      },
      "execution_count": null,
      "outputs": [
        {
          "output_type": "execute_result",
          "data": {
            "text/plain": [
              "                              Title  \\\n",
              "0            Kansas Saloon Smashers   \n",
              "1     Love by the Light of the Moon   \n",
              "2           The Martyred Presidents   \n",
              "3  Terrible Teddy, the Grizzly King   \n",
              "4            Jack and the Beanstalk   \n",
              "\n",
              "                                                Plot  \n",
              "0  A bartender is working at a saloon, serving dr...  \n",
              "1  The moon, painted with a smiling face hangs ov...  \n",
              "2  The film, just over a minute long, is composed...  \n",
              "3  Lasting just 61 seconds and consisting of two ...  \n",
              "4  The earliest known adaptation of the classic f...  "
            ],
            "text/html": [
              "\n",
              "  <div id=\"df-e387159d-3232-4ec0-9680-c735e88c4ea1\" class=\"colab-df-container\">\n",
              "    <div>\n",
              "<style scoped>\n",
              "    .dataframe tbody tr th:only-of-type {\n",
              "        vertical-align: middle;\n",
              "    }\n",
              "\n",
              "    .dataframe tbody tr th {\n",
              "        vertical-align: top;\n",
              "    }\n",
              "\n",
              "    .dataframe thead th {\n",
              "        text-align: right;\n",
              "    }\n",
              "</style>\n",
              "<table border=\"1\" class=\"dataframe\">\n",
              "  <thead>\n",
              "    <tr style=\"text-align: right;\">\n",
              "      <th></th>\n",
              "      <th>Title</th>\n",
              "      <th>Plot</th>\n",
              "    </tr>\n",
              "  </thead>\n",
              "  <tbody>\n",
              "    <tr>\n",
              "      <th>0</th>\n",
              "      <td>Kansas Saloon Smashers</td>\n",
              "      <td>A bartender is working at a saloon, serving dr...</td>\n",
              "    </tr>\n",
              "    <tr>\n",
              "      <th>1</th>\n",
              "      <td>Love by the Light of the Moon</td>\n",
              "      <td>The moon, painted with a smiling face hangs ov...</td>\n",
              "    </tr>\n",
              "    <tr>\n",
              "      <th>2</th>\n",
              "      <td>The Martyred Presidents</td>\n",
              "      <td>The film, just over a minute long, is composed...</td>\n",
              "    </tr>\n",
              "    <tr>\n",
              "      <th>3</th>\n",
              "      <td>Terrible Teddy, the Grizzly King</td>\n",
              "      <td>Lasting just 61 seconds and consisting of two ...</td>\n",
              "    </tr>\n",
              "    <tr>\n",
              "      <th>4</th>\n",
              "      <td>Jack and the Beanstalk</td>\n",
              "      <td>The earliest known adaptation of the classic f...</td>\n",
              "    </tr>\n",
              "  </tbody>\n",
              "</table>\n",
              "</div>\n",
              "    <div class=\"colab-df-buttons\">\n",
              "\n",
              "  <div class=\"colab-df-container\">\n",
              "    <button class=\"colab-df-convert\" onclick=\"convertToInteractive('df-e387159d-3232-4ec0-9680-c735e88c4ea1')\"\n",
              "            title=\"Convert this dataframe to an interactive table.\"\n",
              "            style=\"display:none;\">\n",
              "\n",
              "  <svg xmlns=\"http://www.w3.org/2000/svg\" height=\"24px\" viewBox=\"0 -960 960 960\">\n",
              "    <path d=\"M120-120v-720h720v720H120Zm60-500h600v-160H180v160Zm220 220h160v-160H400v160Zm0 220h160v-160H400v160ZM180-400h160v-160H180v160Zm440 0h160v-160H620v160ZM180-180h160v-160H180v160Zm440 0h160v-160H620v160Z\"/>\n",
              "  </svg>\n",
              "    </button>\n",
              "\n",
              "  <style>\n",
              "    .colab-df-container {\n",
              "      display:flex;\n",
              "      gap: 12px;\n",
              "    }\n",
              "\n",
              "    .colab-df-convert {\n",
              "      background-color: #E8F0FE;\n",
              "      border: none;\n",
              "      border-radius: 50%;\n",
              "      cursor: pointer;\n",
              "      display: none;\n",
              "      fill: #1967D2;\n",
              "      height: 32px;\n",
              "      padding: 0 0 0 0;\n",
              "      width: 32px;\n",
              "    }\n",
              "\n",
              "    .colab-df-convert:hover {\n",
              "      background-color: #E2EBFA;\n",
              "      box-shadow: 0px 1px 2px rgba(60, 64, 67, 0.3), 0px 1px 3px 1px rgba(60, 64, 67, 0.15);\n",
              "      fill: #174EA6;\n",
              "    }\n",
              "\n",
              "    .colab-df-buttons div {\n",
              "      margin-bottom: 4px;\n",
              "    }\n",
              "\n",
              "    [theme=dark] .colab-df-convert {\n",
              "      background-color: #3B4455;\n",
              "      fill: #D2E3FC;\n",
              "    }\n",
              "\n",
              "    [theme=dark] .colab-df-convert:hover {\n",
              "      background-color: #434B5C;\n",
              "      box-shadow: 0px 1px 3px 1px rgba(0, 0, 0, 0.15);\n",
              "      filter: drop-shadow(0px 1px 2px rgba(0, 0, 0, 0.3));\n",
              "      fill: #FFFFFF;\n",
              "    }\n",
              "  </style>\n",
              "\n",
              "    <script>\n",
              "      const buttonEl =\n",
              "        document.querySelector('#df-e387159d-3232-4ec0-9680-c735e88c4ea1 button.colab-df-convert');\n",
              "      buttonEl.style.display =\n",
              "        google.colab.kernel.accessAllowed ? 'block' : 'none';\n",
              "\n",
              "      async function convertToInteractive(key) {\n",
              "        const element = document.querySelector('#df-e387159d-3232-4ec0-9680-c735e88c4ea1');\n",
              "        const dataTable =\n",
              "          await google.colab.kernel.invokeFunction('convertToInteractive',\n",
              "                                                    [key], {});\n",
              "        if (!dataTable) return;\n",
              "\n",
              "        const docLinkHtml = 'Like what you see? Visit the ' +\n",
              "          '<a target=\"_blank\" href=https://colab.research.google.com/notebooks/data_table.ipynb>data table notebook</a>'\n",
              "          + ' to learn more about interactive tables.';\n",
              "        element.innerHTML = '';\n",
              "        dataTable['output_type'] = 'display_data';\n",
              "        await google.colab.output.renderOutput(dataTable, element);\n",
              "        const docLink = document.createElement('div');\n",
              "        docLink.innerHTML = docLinkHtml;\n",
              "        element.appendChild(docLink);\n",
              "      }\n",
              "    </script>\n",
              "  </div>\n",
              "\n",
              "\n",
              "<div id=\"df-eed88890-bc5c-4119-9bfe-b84b0613e9f4\">\n",
              "  <button class=\"colab-df-quickchart\" onclick=\"quickchart('df-eed88890-bc5c-4119-9bfe-b84b0613e9f4')\"\n",
              "            title=\"Suggest charts\"\n",
              "            style=\"display:none;\">\n",
              "\n",
              "<svg xmlns=\"http://www.w3.org/2000/svg\" height=\"24px\"viewBox=\"0 0 24 24\"\n",
              "     width=\"24px\">\n",
              "    <g>\n",
              "        <path d=\"M19 3H5c-1.1 0-2 .9-2 2v14c0 1.1.9 2 2 2h14c1.1 0 2-.9 2-2V5c0-1.1-.9-2-2-2zM9 17H7v-7h2v7zm4 0h-2V7h2v10zm4 0h-2v-4h2v4z\"/>\n",
              "    </g>\n",
              "</svg>\n",
              "  </button>\n",
              "\n",
              "<style>\n",
              "  .colab-df-quickchart {\n",
              "      --bg-color: #E8F0FE;\n",
              "      --fill-color: #1967D2;\n",
              "      --hover-bg-color: #E2EBFA;\n",
              "      --hover-fill-color: #174EA6;\n",
              "      --disabled-fill-color: #AAA;\n",
              "      --disabled-bg-color: #DDD;\n",
              "  }\n",
              "\n",
              "  [theme=dark] .colab-df-quickchart {\n",
              "      --bg-color: #3B4455;\n",
              "      --fill-color: #D2E3FC;\n",
              "      --hover-bg-color: #434B5C;\n",
              "      --hover-fill-color: #FFFFFF;\n",
              "      --disabled-bg-color: #3B4455;\n",
              "      --disabled-fill-color: #666;\n",
              "  }\n",
              "\n",
              "  .colab-df-quickchart {\n",
              "    background-color: var(--bg-color);\n",
              "    border: none;\n",
              "    border-radius: 50%;\n",
              "    cursor: pointer;\n",
              "    display: none;\n",
              "    fill: var(--fill-color);\n",
              "    height: 32px;\n",
              "    padding: 0;\n",
              "    width: 32px;\n",
              "  }\n",
              "\n",
              "  .colab-df-quickchart:hover {\n",
              "    background-color: var(--hover-bg-color);\n",
              "    box-shadow: 0 1px 2px rgba(60, 64, 67, 0.3), 0 1px 3px 1px rgba(60, 64, 67, 0.15);\n",
              "    fill: var(--button-hover-fill-color);\n",
              "  }\n",
              "\n",
              "  .colab-df-quickchart-complete:disabled,\n",
              "  .colab-df-quickchart-complete:disabled:hover {\n",
              "    background-color: var(--disabled-bg-color);\n",
              "    fill: var(--disabled-fill-color);\n",
              "    box-shadow: none;\n",
              "  }\n",
              "\n",
              "  .colab-df-spinner {\n",
              "    border: 2px solid var(--fill-color);\n",
              "    border-color: transparent;\n",
              "    border-bottom-color: var(--fill-color);\n",
              "    animation:\n",
              "      spin 1s steps(1) infinite;\n",
              "  }\n",
              "\n",
              "  @keyframes spin {\n",
              "    0% {\n",
              "      border-color: transparent;\n",
              "      border-bottom-color: var(--fill-color);\n",
              "      border-left-color: var(--fill-color);\n",
              "    }\n",
              "    20% {\n",
              "      border-color: transparent;\n",
              "      border-left-color: var(--fill-color);\n",
              "      border-top-color: var(--fill-color);\n",
              "    }\n",
              "    30% {\n",
              "      border-color: transparent;\n",
              "      border-left-color: var(--fill-color);\n",
              "      border-top-color: var(--fill-color);\n",
              "      border-right-color: var(--fill-color);\n",
              "    }\n",
              "    40% {\n",
              "      border-color: transparent;\n",
              "      border-right-color: var(--fill-color);\n",
              "      border-top-color: var(--fill-color);\n",
              "    }\n",
              "    60% {\n",
              "      border-color: transparent;\n",
              "      border-right-color: var(--fill-color);\n",
              "    }\n",
              "    80% {\n",
              "      border-color: transparent;\n",
              "      border-right-color: var(--fill-color);\n",
              "      border-bottom-color: var(--fill-color);\n",
              "    }\n",
              "    90% {\n",
              "      border-color: transparent;\n",
              "      border-bottom-color: var(--fill-color);\n",
              "    }\n",
              "  }\n",
              "</style>\n",
              "\n",
              "  <script>\n",
              "    async function quickchart(key) {\n",
              "      const quickchartButtonEl =\n",
              "        document.querySelector('#' + key + ' button');\n",
              "      quickchartButtonEl.disabled = true;  // To prevent multiple clicks.\n",
              "      quickchartButtonEl.classList.add('colab-df-spinner');\n",
              "      try {\n",
              "        const charts = await google.colab.kernel.invokeFunction(\n",
              "            'suggestCharts', [key], {});\n",
              "      } catch (error) {\n",
              "        console.error('Error during call to suggestCharts:', error);\n",
              "      }\n",
              "      quickchartButtonEl.classList.remove('colab-df-spinner');\n",
              "      quickchartButtonEl.classList.add('colab-df-quickchart-complete');\n",
              "    }\n",
              "    (() => {\n",
              "      let quickchartButtonEl =\n",
              "        document.querySelector('#df-eed88890-bc5c-4119-9bfe-b84b0613e9f4 button');\n",
              "      quickchartButtonEl.style.display =\n",
              "        google.colab.kernel.accessAllowed ? 'block' : 'none';\n",
              "    })();\n",
              "  </script>\n",
              "</div>\n",
              "    </div>\n",
              "  </div>\n"
            ],
            "application/vnd.google.colaboratory.intrinsic+json": {
              "type": "dataframe",
              "variable_name": "df2",
              "summary": "{\n  \"name\": \"df2\",\n  \"rows\": 1000,\n  \"fields\": [\n    {\n      \"column\": \"Title\",\n      \"properties\": {\n        \"dtype\": \"string\",\n        \"num_unique_values\": 980,\n        \"samples\": [\n          \"Hardboiled Rose\",\n          \"Up and at 'Em\",\n          \"Joan the Woman\"\n        ],\n        \"semantic_type\": \"\",\n        \"description\": \"\"\n      }\n    },\n    {\n      \"column\": \"Plot\",\n      \"properties\": {\n        \"dtype\": \"string\",\n        \"num_unique_values\": 996,\n        \"samples\": [\n          \"After attending preparatory school and college in the Eastern United States, Wing Foot (Richard Dix) returns to his Navajo tribe and renounces their customs and beliefs, becoming an outcast among his own people. He later secretly visits the village of a rival tribe in order to see Corn Blossom (Julie Carter), his sweetheart, who has also been to school in the East. Her people discover his presence, and he is forced to flee into the desert, where he discovers oil. White prospectors also find the oil, and Wing Foot races them to the claim office, filing his claim first. Faced with marriage to a man she does not love, Corn Blossom takes refuge in the Navajo village. Her people come to take her back, and a pitched battle between the tribes is averted only when Wing Foot arrives and tells both tribes of the new good fortune of the Indian nations. He then claims Corn Blossom as his own.\",\n          \"Joan Prescott (Joan Crawford) is a vacuous and flirtatious daughter of the wealthy Montana rancher, John Prescott (Lloyd Ingraham). On the train, Joan's sister, Elizabeth (Dorothy Sebastian) tells her she's in love with Jeff (Ricardo Cortez). Jeff is more smitten with Joan and kisses her. Joan then impulsively gets off at the next whistle stop, where she meets Larry (Johnny Mack Brown), a Texas cowboy. He is a rancher on John Prescott's land, and does not know who Joan is. He expresses dismay at how spoiled Prescott's daughters are. Joan conceals her identity, refusing to say her name. She tells him to think of something he loves and call her that, and he chooses \\\"Montana.\\\"\\r\\nJoan and Larry fall for one another and are married. When they return to her father's ranch, the couple are nervous that he will not approve of the pairing. However, to their surprise, John Prescott is delighted for the couple and believes Larry is the kind of person who can finally settle Joan. At their party, celebrating their nuptials, Joan sees Jeff, with whom Joan does a daring dance. As they finish dancing, Joan and Jeff share a lingering kiss. After Jeff and Larry come to blows, Joan is embarrassed that Larry resorted to violence.\\r\\nAs Joan became familiar with Larry's posse of cowboy friends, she wants Larry to be accustomed to her group of highbrow city friends who are in Montana with John Prescott. She wants to go back to New York where the couple can live comfortably, but Larry feels it is his duty as a husband to provide for his wife and having her father take care of him is not an option.\\r\\nLater at another party, Larry catches Jeff trying to make another move on Joan, and the married couple get into a fight. In a fit of rage, she tells Larry that marrying him was the greatest mistake of her life and tells him to leave her alone. As he is walking away, she realizes her mistake and begs to be forgiven, but he rebuffs her. Even John Prescott advises him to forgive her, but Larry sees too many differences between the two to make the marriage work.\\r\\nWith the marriage over and Larry refusing to speak to Joan, the Prescotts\\u2014Joan in tow\\u2014decide to take the train back to New York. En route, the train is held up by masked cowboys, who take Joan as their only hostage. However, the whole robbery is a ruse and one of the masked cowboys is Larry who has come to take Joan back to their new life.\",\n          \"Seated in a park, Charlie gives his expert attention to the picture of a pretty girl on the cover of the Police Gazette. Since he doesn't have a girl of his own, Charlie becomes despondent and prepares to drown himself in the park's lake. He quickly changes his mind when an attractive girl approaches. However, she has a sailor boyfriend. Charlie and the sailor begin to fight. Shortly thereafter two policemen become involved in what has become a terrific brick fight between Charlie and the sailor. The brick war features strategic retreats and clever diversionary movements. Eventually Charlie settles matters by pushing the sailor and the policemen into the lake.\\r\\nChaplin was the only player in Recreation to receive a screen credit.\\r\\nThe film was only half a reel in length. A travel short, The Yosemite, made up the other half of the reel.\"\n        ],\n        \"semantic_type\": \"\",\n        \"description\": \"\"\n      }\n    }\n  ]\n}"
            }
          },
          "metadata": {},
          "execution_count": 32
        }
      ]
    },
    {
      "cell_type": "markdown",
      "source": [
        "We have loaded the dataset and the two columns, Title and Plot. Everything is fine, so lets go with the code."
      ],
      "metadata": {
        "id": "NtDL1BdaQ1XX"
      }
    },
    {
      "cell_type": "code",
      "source": [
        "df2['text'] = df2['Title'] + ' ' + df2['Plot']"
      ],
      "metadata": {
        "id": "gb585Bc0pkDC"
      },
      "execution_count": null,
      "outputs": []
    },
    {
      "cell_type": "markdown",
      "source": [
        "Now we are merging the Title 'column' and 'Plot' into one singular column for performing the Search operation easily."
      ],
      "metadata": {
        "id": "7d06av2_RLLX"
      }
    },
    {
      "cell_type": "code",
      "source": [
        "df2[['text']].to_csv('movies_dataset.csv', index=False)"
      ],
      "metadata": {
        "id": "Nfi3imZUqYuY"
      },
      "execution_count": null,
      "outputs": []
    },
    {
      "cell_type": "markdown",
      "source": [
        "Now since we have merged two columns, we need to save the dataset to save all the changes. We are saving it as \"movies_dataset.csv\""
      ],
      "metadata": {
        "id": "fEiIe6-PRfDf"
      }
    },
    {
      "cell_type": "code",
      "source": [
        "import pandas as pd\n",
        "\n",
        "df = pd.read_csv('/content/movies_dataset.csv')\n",
        "\n",
        "movies_dict = df[['text']].to_dict(orient=\"records\")"
      ],
      "metadata": {
        "id": "6cqfmXcqqhrO"
      },
      "execution_count": null,
      "outputs": []
    },
    {
      "cell_type": "markdown",
      "source": [
        "We are converting the dataset entries into list of dictonaries."
      ],
      "metadata": {
        "id": "uY37oLuNRuuw"
      }
    },
    {
      "cell_type": "code",
      "source": [
        "from sentence_transformers import SentenceTransformer\n",
        "import chromadb\n",
        "from chromadb import PersistentClient\n",
        "from tqdm.auto import tqdm\n",
        "import random\n",
        "\n",
        "embedding_model = SentenceTransformer('all-MiniLM-L6-v2')\n",
        "\n",
        "class MovieEmbeddingFunction(chromadb.EmbeddingFunction):\n",
        "    def __call__(self, input: chromadb.Documents) -> chromadb.Embeddings:\n",
        "        batch_embeddings = embedding_model.encode(input)\n",
        "        return batch_embeddings.tolist()\n",
        "\n",
        "embed_fn = MovieEmbeddingFunction()\n",
        "\n",
        "# Initialize the chromadb directory and client\n",
        "client = PersistentClient(path=\"./movie_chromadb\")\n",
        "\n",
        "# Create collection\n",
        "collection_name = \"movies_collection_nov_2023\"\n",
        "collection = client.get_or_create_collection(\n",
        "    name=collection_name,\n",
        "    embedding_function=embed_fn\n",
        ")"
      ],
      "metadata": {
        "id": "ay_Fn1Gfqwg2"
      },
      "execution_count": null,
      "outputs": []
    },
    {
      "cell_type": "markdown",
      "source": [
        "In this code, we are converting the list of dictionaries into embeddings. We are also initializing the chromadb directory and client. We are also creating collcetion and saving all those embeddings into \"movies_collection_nov_2023\" collection."
      ],
      "metadata": {
        "id": "Dqn3XT5YR_KH"
      }
    },
    {
      "cell_type": "code",
      "source": [
        "batch_size = 50\n",
        "\n",
        "for i in tqdm(range(0, len(movies_dict), batch_size)):\n",
        "    i_end = min(i + batch_size, len(movies_dict))\n",
        "    batch = [movie['text'] for movie in movies_dict[i:i_end]]\n",
        "    batch_ids = [str(i+x) for x in range(batch_size)]  # Dummy IDs for demonstration\n",
        "\n",
        "    batch_embeddings = embedding_model.encode(batch)\n",
        "\n",
        "    collection.upsert(\n",
        "        ids=batch_ids,\n",
        "        documents=batch,\n",
        "        embeddings=batch_embeddings.tolist(),\n",
        "    )"
      ],
      "metadata": {
        "colab": {
          "base_uri": "https://localhost:8080/",
          "height": 49,
          "referenced_widgets": [
            "ae008337c13e4409ac61ba7d8da5129f",
            "5e8c2e67ecf94ba0a446915fb2f7cc54",
            "879332cebad54ec7a1ea47ddf1db7dbd",
            "db54a60f7d1e435792d78dc625ff3f22",
            "f7d1c1b62ea34dbe9b2ad20e362d1fbc",
            "8a8d86eefd914902b654f25fe0dad20e",
            "cec7e1b259ef47fa8868b46a6fdeb821",
            "48d20564e355404d9016102195c63f9f",
            "d68b4f81e8bf484486108ead22b4a9d8",
            "d2ffd88af1a447d8b2524916f934641c",
            "68c9458e98124f459ec3728f52ea1c67"
          ]
        },
        "id": "gtFE1NT7q3Vw",
        "outputId": "64460141-a421-4ac2-eab2-79b182f5e173"
      },
      "execution_count": null,
      "outputs": [
        {
          "output_type": "display_data",
          "data": {
            "text/plain": [
              "  0%|          | 0/20 [00:00<?, ?it/s]"
            ],
            "application/vnd.jupyter.widget-view+json": {
              "version_major": 2,
              "version_minor": 0,
              "model_id": "ae008337c13e4409ac61ba7d8da5129f"
            }
          },
          "metadata": {}
        }
      ]
    },
    {
      "cell_type": "markdown",
      "source": [
        "We took a random batch size of size 50. We are generating the embeddings and upserting into ChmaDb for supporting RAG Retrieval."
      ],
      "metadata": {
        "id": "qRQh6LcESWJS"
      }
    },
    {
      "cell_type": "code",
      "source": [
        "query_plot = input(\"Enter a query:\")\n",
        "\n",
        "results = collection.query(\n",
        "    query_texts=[query_plot],\n",
        "    n_results=5,\n",
        ")\n",
        "\n",
        "for doc in results['documents'][0]:\n",
        "    print(doc, '\\n')\n"
      ],
      "metadata": {
        "colab": {
          "base_uri": "https://localhost:8080/"
        },
        "id": "x3RHQvqZrEjX",
        "outputId": "d0312880-040f-4d2d-af99-f30e5f00ac0c"
      },
      "execution_count": null,
      "outputs": [
        {
          "output_type": "stream",
          "name": "stdout",
          "text": [
            "Enter a query:“Documentaries showcasing indigenous peoples' survival and daily life in Arctic regions\n",
            "Nanook of the North The documentary follows the lives of an Inuk, Nanook, and his family as they travel, search for food, and trade in the Ungava Peninsula of northern Quebec, Canada. Nanook; his wife, Nyla; and their family are introduced as fearless heroes who endure rigors no other race could survive. The audience sees Nanook, often with his family, hunt a walrus, build an igloo, go about his day, and perform other tasks. \n",
            "\n",
            "In the Land of the Head Hunters The following plot synopsis was published in conjunction with a 1915 showing of the film at Carnegie Hall: \n",
            "\n",
            "The Frozen North The film opens near the \"last stop on the subway\", a terminal in Alaska, which appears to be emerging from deep snow in the middle of nowhere. A tough-looking cowboy (Buster Keaton) emerges. He arrives at a small settlement, finding people gambling in a saloon. He tries to rob them by scaring them with the cutout of a poster of a man holding a gun, which he places at the window, as if he has an accomplice. He tells the gamblers to raise their hands in the air. Frightened, they hand over their cash, but soon they find out the truth when a drunk man falls over the cutout. Keaton is thrown out through the window.\n",
            "Next, he mistakenly enters a house thinking that it is his own house. Inside, he sees a man and a woman kissing. Thinking the woman is his wife, he gets red-hot angry and shoots the couple, later to realize his mistake. He goes to his own house, where he finds his wife (Sybil Seely), who greets him, but he treats her coldly. She tries to pick a vase from a shelf, but it drops and knocks her out. Investigating the shooting of the couple, a passing policeman then knocks at Keaton's door after hearing his wife scream. Keaton saves himself from arrest by playing music on gramophone and pretending to dance with his unconscious wife. As soon as the officer leaves, he drops her on the floor.\n",
            "He looks out of the window and sees his pretty neighbor (Bonnie Hill). He quickly dons an elegant white suit and picks flowers (mysteriously growing from the deep snow; a sign reads \"Keep Off the Grass\"). He attempts to woo her, but she rejects him. Her husband comes back home and Keaton's character has to flee once more.\n",
            "The neighbors leave on a sled for a new, even more bleak northerly location. Keaton gets a \"car\" (a dog sled with an engine) driven by a friend (Joe Roberts) to follow them, but it breaks down, so he has to hail a passing \"taxi\" (a horse drawn sled with upholstery). The taxi is stopped by a traffic warden riding a motorized sled with a propeller for speeding on the snow, but they get away. Keaton is up to his old tricks—he \"reverses\" the propeller so the officer goes backward into a lake. Near the north pole, he and Roberts find a hotel-like igloo with wall-hangings of a stag's head and a guitar. In a gag Keaton tries to hang his hat on a stag head antler but it keeps falling off. They attempt to survive by fishing in the manner of the Eskimos. Keaton makes snow-shoes from guitars and attempts to catch fish using tinned sardines as bait, but just creates trouble—he first falls through the ice and then tries to fish—but the only things he \"catches\" are another fisherman's baited fish and the other fisherman himself!\n",
            "Forced to flee back to the igloo, where his companion is hoovering the ice floor, Keaton sees his pretty neighbor again in her new hut. Fortified by drinking a bottle of cola, he decides he will force himself on her in the manner of Erich von Stroheim's character from the film Foolish Wives. He appears in Stroheim-like clothing at her hut, but is chased by her husband. Pretending to be a snowman, he eludes him and returns to the hut. Roberts tries to fight the husband but ends up falling into a lake. The husband returns to find his wife weeping on the floor as Keaton stands over her. He wrestles with Keaton. Keaton's wife appears and shoots her husband. The wounded Keaton takes a pistol and tries to shoot the husband, but at that moment a janitor wakes Keaton up in the front row of a film theater (the gun in the last scene turns out to be a folded newspaper in his hand) and Keaton realizes that it was all a dream! \n",
            "\n",
            "From Leadville to Aspen: A Hold-Up in the Rockies The film features a train traveling through the Rockies and a hold up created by two thugs placing logs on the line. They systematically rob the wealthy occupants at gunpoint and then make their getaway along the tracks and later by a hi-jacked horse and cart. \n",
            "\n",
            "Chang: A Drama of the Wilderness In the directors' own words, Chang is a \"melodrama with man, the jungle, and wild animals as its cast.\"[citation needed] Kru, the farmer depicted in the film, battles leopards, tigers, and even a herd of elephants, all of which pose a constant threat to his livelihood. As filmmakers, Cooper and Schoedsack attempted to capture real life with their cameras, though they often re-staged events that had not been captured adequately on film. The danger was real to all the people and animals involved. Tigers, leopards, and bears are slaughtered on camera, while the film's climax shows Kru's house being demolished by a stampeding elephant. \n",
            "\n"
          ]
        }
      ]
    },
    {
      "cell_type": "markdown",
      "source": [
        "The code is done. We are entering the query and clicking run to get the results. We are executing it six times and entering the six queries each time to make every output visible."
      ],
      "metadata": {
        "id": "MhJqJbT7S1ra"
      }
    },
    {
      "cell_type": "code",
      "source": [
        "query_plot = input(\"Enter a query:\")\n",
        "\n",
        "results = collection.query(\n",
        "    query_texts=[query_plot],\n",
        "    n_results=5,\n",
        ")\n",
        "\n",
        "for doc in results['documents'][0]:\n",
        "    print(doc, '\\n')"
      ],
      "metadata": {
        "colab": {
          "base_uri": "https://localhost:8080/"
        },
        "id": "UIQHht6urdG8",
        "outputId": "a3dce438-b06b-405c-ea1a-1af900e54d50"
      },
      "execution_count": null,
      "outputs": [
        {
          "output_type": "stream",
          "name": "stdout",
          "text": [
            "Enter a query:Western romance\n",
            "Romance As described in a film publication,[2] a youth (Arthur Rankin) in the prologue seeks advice from his grandfather (Sydney), who then recalls a romance of his own youth which is then shown as a flashback. A priest (Sydney) is in love with an Italian opera singer (Keane), and the drama involves the conflict between his efforts to rise above worldly things or to leave with her. The romance ends with a deep note of pathos. \n",
            "\n",
            "Wild and Woolly As described in a film magazine review,[1] Jeff Hillington (Fairbanks), son of railroad magnate Collis J. Hillington (Bytell), tires of the East and longs for the wild and woolly West. He has his apartment and office fixed up in his understanding of the accepted Western style, which he has gleaned from dime novels. A delegation from Bitter Creek comes to New York City seeking financial backing for the construction of a spur line, and go to Collis to explain their proposition. Collis sends Jeff to investigate. The citizens of Bitter Creek, Arizona, realizing that a favorable report from Jeff is necessary, decide to live up to Jeff's idea of a Western town. They set up a program with a wild reception for Jeff, a barroom dance, and a train holdup. Steve Shelby (De Grasse), a grafting Indian agent, knowing that he is about to be caught by the government, decides to do \"one more trick\" and enters into the plan to rob the train, turning it into a real scheme. Events turn earnest and Shelby kidnaps Nell Larabee (Percy), with whom Jeff has fallen in love. The entire crowd has been trapped in the dance hall, which is surrounded by Indians, and Jeff's revolver loaded with blanks. When the situation is finally explained to Jeff, by superhuman efforts (and typical Fairbanks surprises) he rounds up the Indians, rescues the girl, completely foils the scheme of Steve, and becomes the hero of the hour, getting to marry Nell. \n",
            "\n",
            "Bucking Broadway As described in a film magazine,[3] Cheyenne Harry (Carey), one of the cowboys on a ranch in Wyoming, falls in love with Helen (Malone), his boss's daughter. She decides to elope to the city with Captain Thornton (Pegg), a wealthy visitor to the ranch from New York. Cheyenne and Helen's father (Wells) are downhearted. Cheyenne, devastated by the loss of his fiance, decides to go to the city to rescue her, and finds Thorton giving a dinner party in a hotel about to announce his engagement to Helen. As the dinner progresses Helen discovers the true nature of Thornton and endeavors to escape from him. Cheyenne comes to her rescue and, with the assistance of some cowboys, clean up the place, leaving Cheyenne and Helen reunited. \n",
            "\n",
            "The Enchanted Cottage Crippled by the war, Oliver Bashforth (Richard Barthelmess) moves into a lonely cottage in search of solitude. He meets Laura Pennington (May McAvoy), a plain and lonely woman, and marries her, primarily to escape from his energetic sister, Ethel (Florence Short). The unhappy couple allow their insecurities to suppress romance and happiness, but their mutual admiration grows and becomes love, manifested by the recognition of the inner beauty in each of them.[4] \n",
            "\n",
            "A Romance of Happy Valley As described in a film magazine,[3] the senior John L. Logan (Fawcett) and his wife (Bruce) are very religious, and are taken aback when John Jr. (Harron) announces that he plans to leave their Southern farm and go to New York City to get rich. They take him to church and pray until he accepts religion. His sweetheart Jennie Timberlake (Gish) is afraid that he will backslide, which he does when the lure of the city becomes too strong for him. He is gone seven years and returns a rich man, but is not recognized when he returns home, which is now taking in boarders. Meanwhile, his father has fallen on hard times and is trying to get money to pay the farm's mortgage, and plans to murder the stranger staying at his home, not realizing it is his son. In town, there is a bank robbery and the robber is chased to the Logan farm. The mother sees that her son has returned home, and the father's remorse ends only as the family is once more together. It is then revealed that it was the bank robber that had been shot by the father. The faithful Jennie and John Jr. end up together at the end. \n",
            "\n"
          ]
        }
      ]
    },
    {
      "cell_type": "code",
      "source": [
        "query_plot = input(\"Enter a query:\")\n",
        "\n",
        "results = collection.query(\n",
        "    query_texts=[query_plot],\n",
        "    n_results=5,\n",
        ")\n",
        "\n",
        "for doc in results['documents'][0]:\n",
        "    print(doc, '\\n')"
      ],
      "metadata": {
        "colab": {
          "base_uri": "https://localhost:8080/"
        },
        "id": "pVZQSU6ZsySo",
        "outputId": "d2d2449b-cd09-4084-9b55-38d92a92b937"
      },
      "execution_count": null,
      "outputs": [
        {
          "output_type": "stream",
          "name": "stdout",
          "text": [
            "Enter a query:Silent film about a Parisian star moving to Egypt, leaving her husband for a baron, and later reconciling after finding her family in poverty in Cairo\n",
            "Sahara Silent film femme fatale, Louise Glaum, portrays the role of Mignon, a Parisian music hall celebrity. Mignon marries a young American civil engineer, John Stanley, portrayed by Matt Moore. Stanley is transferred to Egypt to work on an engineering project in the Sahara. Mignon and her son, portrayed by Pat Moore, join Stanley in the desert.[3][4] Unhappy with life in the desert, Mignon leaves Stanley and her son in the desert and moves to Cairo with the wealthy Baron Alexis, portrayed by Edwin Stevens. Mignon lives in Baron Alexis' palace while Stanley goes blind and becomes addicted to the drug hasheesh. Mignon later encounters Stanley and her son, who have become beggars in the streets of Cairo.[3][4] Mignon returns to the desert to care for her husband, and the two are reconciled. \n",
            "\n",
            "Mothers Cry The film is focused on the life of widowed mother Mary Williams (Dorothy Peterson) and her struggles to raise her four children. Daniel (Edward Woods), her eldest, torments her and his siblings throughout his childhood and grows up to be a criminal. Younger son Arthur (David Manners) grows up to be a successful architect. Daughter Jennie (Evalyn Knapp) loves domestic work and homelife and is courted by Karl Muller (Reinhold Pasch), a wealthy older gentleman. The other daughter, Beattie (Helen Chandler), grows up to be an idealistic dreamer.\n",
            "One day Daniel doublecrosses some gangsters, who beat him up, and he disappears for three years, returning with a moll whom he introduces as his wife. Meanwhile, Jennie has married Muller. Detectives trail Daniel to his mother's house as a suspect in a holdup. He later reappears at the house with a blackmail scheme and ends up shooting and murdering his own sister Beattie. He is convicted of cold-blooded murder and sent to the electric chair. The film ends with Mary finding consolation in her two remaining children. \n",
            "\n",
            "The House with Closed Shutters During the American Civil War a young soldier loses his nerve in battle and runs away to his home to hide; his sister puts on his uniform, takes her brother's place in the battle, and is killed. Their mother, not wanting the shameful truth to become known, closes all the shutters (hence the film's title) and keeps her son's presence a secret for many years, until two boyhood chums stumble upon the truth. \n",
            "\n",
            "A Busy Day In A Busy Day, a wife (played by an energetic Charlie Chaplin) becomes jealous of her husband's interest in another woman during a military parade. On her way to attack the couple, the wife interrupts the set of a film, knocking over a film director and a police officer. Finally, the husband pushes the wife off a pier and she falls into the harbor. \n",
            "\n",
            "The Suburbanite The film is about a family who move to the suburbs, hoping for a quiet life. Things start to go wrong, and the wife gets violent and starts throwing crockery, leading to her arrest. \n",
            "\n"
          ]
        }
      ]
    },
    {
      "cell_type": "code",
      "source": [
        "query_plot = input(\"Enter a query:\")\n",
        "\n",
        "results = collection.query(\n",
        "    query_texts=[query_plot],\n",
        "    n_results=5,\n",
        ")\n",
        "\n",
        "for doc in results['documents'][0]:\n",
        "    print(doc, '\\n')"
      ],
      "metadata": {
        "colab": {
          "base_uri": "https://localhost:8080/"
        },
        "id": "8fpUSpGasyuW",
        "outputId": "b6f72daa-0ef8-4256-980f-dd2f7a30187a"
      },
      "execution_count": null,
      "outputs": [
        {
          "output_type": "stream",
          "name": "stdout",
          "text": [
            "Enter a query:\"Comedy film, office disguises, boss's daughter, elopement\n",
            "Ask Father Lloyd is a serious young middle-class guy on the make, who wants to marry the boss’ daughter. The problem is getting in to see the boss so that he can ask for her hand in marriage; the office is guarded by a bunch of comic, clumsy flunkies who throw everyone out who tries to get in. When Lloyd gets into the boss’ office, the latter uses trap doors and conveyor belts to expel him; Lloyd then goes to the costume company next door, tries to get in wearing drag (no success), and then in medieval armor – that works, since he bangs everyone over the head with his club, but then he finds out that the daughter has eloped with another suitor. Lloyd decides to be sensible and he settles for the cute switchboard operator (Daniels) instead. The film includes a brief wall climbing sequence. Light-hearted, short, fast-paced. \n",
            "\n",
            "Caught in a Cabaret Chaplin plays a waiter who fakes being a Greek Ambassador to impress a girl. He then is invited to a garden party where he gets in trouble with the girl's jealous boyfriend. Mabel Normand wrote and directed comedies before Chaplin and mentored her young co-star. \n",
            "\n",
            "The Extra Girl Sue Graham (Normand) is a small town girl who travels to Hollywood to escape marriage, and in the hope of becoming a motion picture star. She wins a contract with a studio on the strength of a picture of a quite different (and very attractive) girl sent instead of hers; but when she arrives the mistake is discovered. Since the error was the result of another’s deception, the studio manager agrees to give her a job in the costume department. She eventually gets the opportunity to screen test, but it turns out disastrously – although in a nod to the actress behind the character the director calls her \"a natural comedian.\" Sue's parents come out to California, and invest money with a shifty individual who swindles them out of their life savings. Sue and childhood friend Dave, who has also followed her, retrieve the money. Despite the unsuccessful film career, all turns out well. \n",
            "\n",
            "Mabel's Blunder Mabel's Blunder tells the tale of a young woman who is secretly engaged to the boss's son.[1] The young man's sister comes to visit at their office, and a jealous Mabel, not knowing who the visiting woman is, dresses up as a (male) chauffeur to spy on them. \n",
            "\n",
            "Amarilly of Clothes-Line Alley Set in San Francisco during the early 1900s, the film revolves around Amarilly (Mary Pickford), the daughter of a widowed scrubwoman. Amarilly is proud of her hard-working Irish family, and takes care of her five roughhouse brothers. She is engaged to bartender Terry McGowan (William Scott), who gets her a job as a cigarette girl in his cafe after a fire unfairly causes her to lose her job as a theater scrubwoman. While working as a cigarette girl, she meets Gordon Phillips (Norman Kerry), a handsome and wealthy but frivolous young man, who is a society sculptor.\n",
            "Terry becomes jealous when Amarilly starts hanging out with Gordon, and he breaks off the engagement. Gordon offers Amarilly a job with his wealthy and snobbish aunt, Mrs. Phillips (Ida Waterman). When the neighborhood is quarantined after a breakout of scarlet fever, Mrs. Phillips decides to take the time to teach Amarilly high class manners in a Pygmalion-like experiment. However, once she discovers her nephew has fallen in love with Amarilly, she turns against her. Mrs. Phillips tries to humiliate Amarilly by inviting her family over for a social party.\n",
            "Amarilly is outraged and returns to her old home. She sees Terry and invites him for supper. He is delighted, and on the way to her house, he stops to buy expensive 50 cent violets, even though he had earlier passed up violets at 15 cents. He is shot by accident, and barely makes it to Amarilly's house before collapsing. Fortunately, Terry survives. Amarilly visits him in the hospital and tells him that when he gets out, they have a date at City Hall.\n",
            "The final scene is five years later. Amarilly is in a side car on Terry's motor bike; they both are nicely dressed and seem to be doing well. Then it is revealed under the blanket she has a baby, and behind Terry is a little boy. \n",
            "\n"
          ]
        }
      ]
    },
    {
      "cell_type": "code",
      "source": [
        "query_plot = input(\"Enter a query:\")\n",
        "\n",
        "results = collection.query(\n",
        "    query_texts=[query_plot],\n",
        "    n_results=5,\n",
        ")\n",
        "\n",
        "for doc in results['documents'][0]:\n",
        "    print(doc, '\\n')"
      ],
      "metadata": {
        "colab": {
          "base_uri": "https://localhost:8080/"
        },
        "id": "UW2JUQjaszM2",
        "outputId": "ca088513-f9d3-4e46-b611-0dd1373873fd"
      },
      "execution_count": null,
      "outputs": [
        {
          "output_type": "stream",
          "name": "stdout",
          "text": [
            "Enter a query:\"Lost film, Cleopatra charms Caesar, plots world rule, treasures from mummy, revels with Antony, tragic end with serpent in Alexandria.\n",
            "Cleopatra Because the film has been lost, the following summary is reconstructed from a description in a contemporary film magazine.\n",
            "Cleopatra (Bara), the Siren of Egypt, by a clever ruse reaches Caesar (Leiber) and he falls victim to her charms. They plan to rule the world together, but then Caesar falls. Cleopatra's life is desired by the church, as the wanton woman's rule has become intolerable. Pharon (Roscoe), a high priest, is given a sacred dagger to take her life. He gives her his love instead and, when she is in need of some money, leads her to the tomb of his ancestors, where she tears the treasure from the breast of the mummy. With this wealth she goes to Rome to meet Antony (Hall). He leaves the affairs of state and travels to Alexandria with her, where they revel. Antony is recalled to Rome and married to Octavia (Blinn), but his soul cries out for Cleopatra. He sends her a message to arm her ships and meet him at Actium, where they battle the opposing forces. They are overpowered, and flee to Alexandria. There they are captured by Octavius (De Vries), and Antony dies in Cleopatra's arms. Before Cleopatra is to be dragged behind the wheels of Octavius' chariot, Pharon the priest, who has never ceased to love her, brings her the serpent that she joyously brings to her breast, dying royally with her crown on her head and scepter in her hand as becomes Egypt. \n",
            "\n",
            "A Daughter of the Gods A sultan agrees to help an evil witch destroy a mysterious beauty if the witch will bring his young son back to life. \n",
            "\n",
            "Disraeli As described in a film magazine,[3] Disraeli (Arliss), a middle class Jew, has become the British Prime Minister under Queen Victoria and incurs the enmity of nobles and racist snobs. He knows that Russia is angling through diplomacy and intrigue for possession of the Suez Canal and, realizing that unless Britain secures it, the strength of her empire will be lost. He plays a lone game for control of the canal and wins. In his final hour of honor at court, those who stood against him claim the honor of having helped him. \n",
            "\n",
            "A Splendid Hazard The main charter Karl Breitman played by Henry B. Walthall, thinks he is a descendant of Napoleon and tries bring back to France the French monarchy. As part of his plot he courts Hedda Gobert played by Rosemary Theby as she owns some Napoleon's papers. After winning Hedda haert he takes the documents from she. He travels to America to visit Admiral Killigrew played by Hardee Kirkland. He hopes the stolen papers will lead him to Napoleon wealth. He finds a treasure map in the Admiral's home and then travels to Corsica. Before finding the Napoleon wealth, he comes across someone that mocks him. He challenges them to a duel. In the duel he is mortally wounded. He dies at his love side, Hedda.[3] \n",
            "\n",
            "The Sorrows of Satan Adolphe Menjou stars as Prince Lucio de Rimanez, who is in fact really Satan assuming a human form. When struggling writer Geoffrey Tempest (Ricardo Cortez) is moved to curse God for his misfortunes, Prince Lucio makes a sudden appearance, informing Tempest that he has inherited a fortune. The only proviso is that Tempest must place his fate entirely in the Prince's hands. As he ascends to the uppermost rungs of European society, Tempest is ordered by Lucio to marry Russian Princess Olga (Lya De Putti), even though the writer still loves his sweetheart Mavis Claire (Carol Dempster). Eventually, Prince Lucio reveals his true identity, but not before Olga has committed suicide. After rejecting the devil and all his false promises, Tempest lives happily ever after with Mavis. \n",
            "\n"
          ]
        }
      ]
    },
    {
      "cell_type": "code",
      "source": [
        "query_plot = input(\"Enter a query:\")\n",
        "\n",
        "results = collection.query(\n",
        "    query_texts=[query_plot],\n",
        "    n_results=5,\n",
        ")\n",
        "\n",
        "for doc in results['documents'][0]:\n",
        "    print(doc, '\\n')"
      ],
      "metadata": {
        "colab": {
          "base_uri": "https://localhost:8080/"
        },
        "id": "EyN3Glc7szmC",
        "outputId": "1a5eeb50-ebaa-4c16-b2a2-82a282c4bd43"
      },
      "execution_count": null,
      "outputs": [
        {
          "output_type": "stream",
          "name": "stdout",
          "text": [
            "Enter a query:Denis Gage Deane-Tanner\n",
            "Captain Alvarez A melodrama about an American who becomes a revolutionary leader battling evil government spies in Argentina. William Desmond Taylor portrays the title role, and Denis Gage Deane-Tanner, Taylor's younger brother, is thought to have played the small role of a blacksmith. \n",
            "\n",
            "Near the Rainbow's End Rancher Tug Wilson (Alfred Hewston) discovers his mate's diabolical scheme, only to be killed instantly. The criminal rancher, Buck Rankin (Al Ferguson), is guilty of killing the Bledsoes' cattle. Buck blames Tug's death on Jim (Bob Steele), the son of Tom Bledsoe (Lafe McKee). Seeking revenge, Tug's daughter Ruth (Louise Lorraine) joins a movement led by Buck to kill Jim. Jim narrowly escapes his first capture attempt but knows he will not make it far. Luckily for him, a sheep herder has witnessed Buck killing Tug and the cattle. With the truth out, Sheriff Hank Bosley (Hank Bell), who was initially on Buck's side, promptly arrests the guilty rancher. \n",
            "\n",
            "A Man from Wyoming After the United States enters World War I in 1917, Wyoming native Jim Baker (Gary Cooper) and his fellow engineer Jersey (Regis Toomey) join the Army and are sent to France with the Engineer Corps. On the battlefield, Baker rescues Patricia Hunter (June Collyer), an American society girl who wanders onto the battlefield. Having worked for the Ambulance Corps, Hunter went AWOL to escape the boredom of her job. After rescuing her from enemy fire, Baker reprimands her for her actions. Later at a rest camp, Baker and Hunter see much of each other, fall in love, and are secretly married. Sometime later, Jim is sent back to the front. When Hunter reads about Baker's death, she opens a family chateau to entertain servicemen and try to forget the man she loves. When Jim arrives at the chateau, having only been wounded, he sees her apparent gaity and misunderstands her feelings. When he encourages her to return with him to Wyoming, she refuses, and he decides to return to the front. On Armistice Day, Baker finds her waiting for him in the town where they were married. \n",
            "\n",
            "The Wolf Song Sam Lash (Gary Cooper) is a fur trapper with a randy reputation when it comes to women. But when Sam meets tempestuous Mexican damsel Lola Salazar (Velez), he falls deeply in love for the first time in his life. Lola's aristocratic father Don Solomon (Michael Vavitch) disapproves of the romance, forcing Sam to kidnap the girl and high-tail it to the mountains. After a brief period of marital contentment, Sam gets restless and leaves Lola, preferring the company of his trapper pals Gullion (Louis Wolheim) and Rube (Constantin Romanoff). But he relents and returns to his bride—making short work of his bitter enemy, Indian leader Black Wolf (George Rigas). \n",
            "\n",
            "Tenderloin Rose Shannon (Dolores Costello), a dancing girl at \"Kelly's,\" in the \"Tenderloin\" district of New York City, worships at a distance Chuck White (Conrad Nagel), a younger member of the gang that uses it as their hangout. Chuck's interest in her is as just another toy to play with. Rose is implicated in a crime which she knows nothing about. The police pick her up, and the gang sends Chuck to take care of her in the event she may know or disclose something that will implicate the gang. \n",
            "\n"
          ]
        }
      ]
    },
    {
      "cell_type": "markdown",
      "source": [
        "Let us calculate the values of @Recall and @MMR now.\n",
        "\n",
        "**Calculating the Recall values**\n",
        "\n",
        "Recall is defined as the how many actual relevant results were shown out of all actual relevant results for the query. Mathematically, this is given by:\n",
        "\n",
        "Recall@k =        true postives@k/(true positives@k + true negatives@K)\n",
        "\n",
        "1. Documentaries showcasing indigenous peoples' survival and daily life in Arctic regions\n",
        "\n",
        "The top 5 results for this query are:\n",
        "Nannok of the Earth\n",
        "In the Land of Head Hunters\n",
        "The Frozen North\n",
        "From Leadville to the Aspen\n",
        "Chang: A Drama of the Wilderness\n",
        "\n",
        "Out of these five results,\n",
        "\n",
        "Nannok of the Earth- RELEVANT\n",
        "In the Land of Head Hunters- IRRELEVANT\n",
        "The Frozen North- RELEVANT\n",
        "From Leadville to the Aspen- IRRELEVANT\n",
        "Chang: A Drama of the Wilderneess- RELEVANT\n",
        "\n",
        "Out of five results, three are relevant (1,3,5- relevant and 2,4- irrelevant)\n",
        "\n",
        "Recall@1 = 1/(1+2) = 1/3 = 0.33\n",
        "Recall@2 = 1/(1+2) = 1/3 = 0.33\n",
        "Recall@3 = 2/(2+1) = 2/3 = 0.66\n",
        "Recall@4 = 2/(2+1) = 2/3 = 0.66\n",
        "Recall@5 = 3/(3+0) = 3/3 = 1\n",
        "\n",
        "2. Western romance\n",
        "\n",
        "The top 5 results for this query are: Romance, Wild and Wolly, Bucking Broadway, The Enchanted Cottage, A Romance of Happy Valley\n",
        "\n",
        "Out of these five results,\n",
        "Romance- RELEVANT\n",
        "Wild and Woolly- IRRELEVANT\n",
        "Bucking Broadway- RELEVANT\n",
        "The Enchanted Cottage- RELEVANT\n",
        "A Romance of Happy Valley- IRRELEVANT (Out of five results, 1,3,4- relevant and 2,5- irrelevant)\n",
        "\n",
        "Recall@1 = 1/(1+2) = 1/3 = 0.33\n",
        "Recall@2 = 1/(1+2) = 1/3 = 0.33\n",
        "Recall@3 = 2/(2+1) = 2/3 = 0.66\n",
        "Recall@4 = 3/(3+0) = 3/3 = 1\n",
        "We are stopping as we got one at fourth step\n",
        "\n",
        "3. Silent film about a Parisian star moving to Egypt, leaving her husband for a baron, and later reconciling after finding her family in poverty in Cairo\n",
        "\n",
        "The top 5 results for this query are: Sahara, Mothers Cry, The House with Closed Shutters, A Busy Day, The Suburbannite  \n",
        "\n",
        "Out of these five results,\n",
        "Sahara- RELEVANT\n",
        "Mothers Cry- IRRELEVANT\n",
        "The House with Closed Shutters- IRRELEVANT\n",
        "A Busy Day- IRRELEVANT\n",
        "The Suburbannite- IRRELEVANT       (1- relevant, 2,3,4,5- irrelevant)\n",
        "\n",
        "Recall@1 = 1/(1+0) = 1/1 = 1\n",
        "Since we got 1 at first step, we do not need to continue.\n",
        "\n",
        "4. Comedy film, office disguises, boss's daughter, elopement\n",
        "\n",
        "The top 5 results for this query are: Ask Father, Caught in a Cabaret, The Extra Girl, Mabel's Blunder, Amarilly of Clothes-Line Alley   \n",
        "\n",
        "Out of these five results.\n",
        "Ask Father- RELEVANT\n",
        "Caught in a Cabaret- RELEVANT\n",
        "The Extra Girl- IRRELEVANT\n",
        "Mabel's Blunder- RELEVANT\n",
        "Amarilly of Clothes-Line Alley- IRRELEVANT       (1,2,4- relevant, 3,5- irrelevant)\n",
        "\n",
        "Recall@1 = 1/(1+2) = 1/3 = 0.33\n",
        "Recall@2 = 2/(2+1) = 2/3 = 0.66\n",
        "Recall@3 = 2/(2+1) = 2/3 = 0.66\n",
        "Recall@4 = 3/(3+0) = 3/3 = 1\n",
        "Since we got 1 at fourth step, we do not need to continue.\n",
        "\n",
        "5. Lost film, Cleopatra charms Caesar, plots world rule, treasures from\n",
        "mummy, revels with Antony, tragic end with serpent in Alexandria.\n",
        "\n",
        "The top 5 results for this query are: Cleopatra, A Daughter of the Gods, Disraeli, A Splendid Hazard, The Sorrows of Saturn\n",
        "\n",
        "Out of these five results.\n",
        "Cleopatra- RELEVANT\n",
        "A Daughter of the Gods- IRRELEVANT\n",
        "Disraeli- IRRELEVANT\n",
        "A Splendid Hazard- IRRELEVANT\n",
        "The Sorrows of Saturn- IRRELEVANT     (1 -relevant, 2,3,4,5 -irrelevant)\n",
        "\n",
        "Recall@1 = 1/(1+0) = 1/1 = 1\n",
        "Since we got 1 at fIRST step, we do not need to continue.\n",
        "\n",
        "6. Denis Gage Deane-Tanner\n",
        "\n",
        "The top 5 results for this query are: Captain Alvarez, Near the Rainbow's End, A Man from Wyoming, The Wolf Song, Tenderloin\n",
        "Out of these five results.\n",
        "\n",
        "Captain Alvarez- RELEVANT\n",
        "Near the Rainbow's End- RELEVANT\n",
        "A Man from Wyoming- IRRELEVANT\n",
        "The Wolf Song- IRRELEVANT\n",
        "Tenderloin- IRRELEVANT              (1,2 -relevant, 3,4,5 -irrelevant)\n",
        "\n",
        "Recall@1 = 1/(1+1) = 1/2 = 0.5\n",
        "Recall@2 = 2/(2+0) = 2/2 = 1\n",
        "Since we got 1 at second step, we do not need to continue."
      ],
      "metadata": {
        "id": "E3BL9iikCr8I"
      }
    },
    {
      "cell_type": "markdown",
      "source": [
        "** Calculating the MRR **\n",
        "\n",
        "This metric is useful when we want our system to return the best relevant item and want that item to be at a higher position. Mathematically, this is given by:\n",
        "\n",
        "To calculate MRR, we first calculate the reciprocal rank. It is simply the reciprocal of the rank of the first correct relevant result and the value ranges from 0 to 1.\n",
        "\n",
        "1. Documentaries showcasing indigenous peoples' survival and daily life in Arctic regions\n",
        "\n",
        "The top 5 results for this query are:\n",
        "Nannok of the Earth\n",
        "In the Land of Head Hunters\n",
        "The Frozen North\n",
        "From Leadville to the Aspen\n",
        "Chang: A Drama of the Wilderness\n",
        "\n",
        "Out of these five results,\n",
        "\n",
        "Nannok of the Earth- RELEVANT\n",
        "In the Land of Head Hunters- IRRELEVANT\n",
        "The Frozen North- RELEVANT\n",
        "From Leadville to the Aspen- IRRELEVANT\n",
        "Chang: A Drama of the Wilderneess- RELEVANT\n",
        "\n",
        "To calculate MRR, we first calculate the reciprocal rank. It is simply the reciprocal of the rank of the first correct relevant result and the value ranges from 0 to 1.\n",
        "\n",
        "For this query, the reciprocal rank is\n",
        "1/1 and MRR = 1 (as the first correct item is at position 1.)\n",
        "\n",
        "2. Western romance\n",
        "\n",
        "he top 5 results for this query are: Romance, Wild and Wolly, Bucking Broadway, The Enchanted Cottage, A Romance of Happy Valley\n",
        "\n",
        "Out of these five results,\n",
        "Romance- RELEVANT\n",
        "Wild and Woolly- IRRELEVANT\n",
        "Bucking Broadway- RELEVANT\n",
        "The Enchanted Cottage- RELEVANT\n",
        "A Romance of Happy Valley- IRRELEVANT (Out of five results, 1,3,4- relevant and 2,5- irrelevant)\n",
        "\n",
        "For this query, the reciprocal rank is\n",
        "1/1 and MRR = 1 (as the first correct item is at position 1.)\n",
        "\n",
        "\n",
        "3. Silent film about a Parisian star moving to Egypt, leaving her husband for a baron, and later reconciling after finding her family in poverty in Cairo\n",
        "\n",
        "he top 5 results for this query are: Sahara, Mothers Cry, The House with Closed Shutters, A Busy Day, The Suburbannite  \n",
        "\n",
        "Out of these five results,\n",
        "Sahara- RELEVANT\n",
        "Mothers Cry- IRRELEVANT\n",
        "The House with Closed Shutters- IRRELEVANT\n",
        "A Busy Day- IRRELEVANT\n",
        "The Suburbannite- IRRELEVANT       (1- relevant, 2,3,4,5- irrelevant)\n",
        "\n",
        "For this query, the reciprocal rank is\n",
        "1/1 and MRR = 1 (as the first correct item is at position 1.)\n",
        "\n",
        "\n",
        "4. Comedy film, office disguises, boss's daughter, elopement\n",
        "\n",
        "Out of these five results.\n",
        "Ask Father- RELEVANT\n",
        "Caught in a Cabaret- RELEVANT\n",
        "The Extra Girl- IRRELEVANT\n",
        "Mabel's Blunder- RELEVANT\n",
        "Amarilly of Clothes-Line Alley- IRRELEVANT       (1,2,4- relevant, 3,5- irrelevant)\n",
        "\n",
        "Recall@1 = 1/(1+2) = 1/3 = 0.33\n",
        "Recall@2 = 2/(2+1) = 2/3 = 0.66\n",
        "Recall@3 = 2/(2+1) = 2/3 = 0.66\n",
        "Recall@4 = 3/(3+0) = 3/3 = 1\n",
        "Since we got 1 at fourth step, we do not need to continue.\n",
        "\n",
        "For this query, the reciprocal rank is\n",
        "1/1 and MRR = 1 (as the first correct item is at position 1.)\n",
        "\n",
        "\n",
        "5. Lost film, Cleopatra charms Caesar, plots world rule, treasures from\n",
        "mummy, revels with Antony, tragic end with serpent in Alexandria.\n",
        "\n",
        "TThe top 5 results for this query are: Cleopatra, A Daughter of the Gods, Disraeli, A Splendid Hazard, The Sorrows of Saturn\n",
        "\n",
        "Out of these five results.\n",
        "Cleopatra- RELEVANT\n",
        "A Daughter of the Gods- IRRELEVANT\n",
        "Disraeli- IRRELEVANT\n",
        "A Splendid Hazard- IRRELEVANT\n",
        "The Sorrows of Saturn- IRRELEVANT     (1 -relevant, 2,3,4,5 -irrelevant)\n",
        "\n",
        "Recall@1 = 1/(1+0) = 1/1 = 1\n",
        "Since we got 1 at fIRST step, we do not need to continue.\n",
        "\n",
        "For this query, the reciprocal rank is\n",
        "1/1 and MRR = 1 (as the first correct item is at position 1.)\n",
        "\n",
        "\n",
        "6. Denis Gage Deane-Tanner\n",
        "\n",
        "he top 5 results for this query are: Captain Alvarez, Near the Rainbow's End, A Man from Wyoming, The Wolf Song, Tenderloin\n",
        "Out of these five results.\n",
        "\n",
        "Captain Alvarez- RELEVANT\n",
        "Near the Rainbow's End- RELEVANT\n",
        "A Man from Wyoming- IRRELEVANT\n",
        "The Wolf Song- IRRELEVANT\n",
        "Tenderloin- IRRELEVANT              (1,2 -relevant, 3,4,5 -irrelevant)\n",
        "\n",
        "For this query, the reciprocal rank is\n",
        "1/1 and MRR = 1 (as the first correct item is at position 1.)\n",
        "\n",
        "After calculating the individual MRR's, we need to calculate their mean to get the MRR for the problem. Here we are having 5 Queries, so\n",
        "\n",
        "MMR Total = [MRR(Query1)+ MRR(Query2)+ MRR(Query3)+ MRR(Query4) + MRR(Query5)]/Total queries\n",
        "= 1+1+1+1+1/5\n",
        "=1\n",
        "\n",
        "MRR for this data is 1"
      ],
      "metadata": {
        "id": "H30Xm_KMCtkP"
      }
    }
  ]
}